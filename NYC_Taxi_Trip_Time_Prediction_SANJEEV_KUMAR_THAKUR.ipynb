{
  "nbformat": 4,
  "nbformat_minor": 0,
  "metadata": {
    "colab": {
      "name": "NYC Taxi Trip Time Prediction - SANJEEV KUMAR THAKUR.ipynb",
      "provenance": [],
      "authorship_tag": "ABX9TyMASRdW75j3JWT3OtZeXqgr",
      "include_colab_link": true
    },
    "kernelspec": {
      "display_name": "Python 3",
      "name": "python3"
    },
    "language_info": {
      "name": "python"
    }
  },
  "cells": [
    {
      "cell_type": "markdown",
      "metadata": {
        "id": "view-in-github",
        "colab_type": "text"
      },
      "source": [
        "<a href=\"https://colab.research.google.com/github/skaty5678/NYC-Taxi-Trip-Time-Prediction/blob/main/NYC_Taxi_Trip_Time_Prediction_SANJEEV_KUMAR_THAKUR.ipynb\" target=\"_parent\"><img src=\"https://colab.research.google.com/assets/colab-badge.svg\" alt=\"Open In Colab\"/></a>"
      ]
    },
    {
      "cell_type": "markdown",
      "metadata": {
        "id": "tOGC-qoyhJeX"
      },
      "source": [
        "# <b><u> Project Title : Taxi trip time Prediction : Predicting total ride duration of taxi trips in New York City</u></b>"
      ]
    },
    {
      "cell_type": "markdown",
      "metadata": {
        "id": "Y06xIdG26kRF"
      },
      "source": [
        "## <b> Problem Description </b>\n",
        "\n",
        "### Your task is to build a model that predicts the total ride duration of taxi trips in New York City. Your primary dataset is one released by the NYC Taxi and Limousine Commission, which includes pickup time, geo-coordinates, number of passengers, and several other variables."
      ]
    },
    {
      "cell_type": "markdown",
      "metadata": {
        "id": "WWeU1f9bwqQq"
      },
      "source": [
        "## <b> Data Description </b>\n",
        "\n",
        "### The dataset is based on the 2016 NYC Yellow Cab trip record data made available in Big Query on Google Cloud Platform. The data was originally published by the NYC Taxi and Limousine Commission (TLC). The data was sampled and cleaned for the purposes of this project. Based on individual trip attributes, you should predict the duration of each trip in the test set.\n",
        "\n",
        "### <b>NYC Taxi Data.csv</b> - the training set (contains 1458644 trip records)\n",
        "\n",
        "\n",
        "### Data fields\n",
        "* #### **id** - a unique identifier for each trip\n",
        "* #### **vendor_id** - a code indicating the provider associated with the trip record\n",
        "* #### **pickup_datetime** - date and time when the meter was engaged\n",
        "* #### **dropoff_datetime** - date and time when the meter was disengaged\n",
        "* #### **passenger_count** - the number of passengers in the vehicle (driver entered value)\n",
        "* #### **pickup_longitude** - the longitude where the meter was engaged\n",
        "* #### **pickup_latitude** - the latitude where the meter was engaged\n",
        "* #### **dropoff_longitude** - the longitude where the meter was disengaged\n",
        "* #### **dropoff_latitude** - the latitude where the meter was disengaged\n",
        "* #### **store_and_fwd_flag** - This flag indicates whether the trip record was held in vehicle memory before sending to the vendor because the vehicle did not have a connection to the server - Y=store and forward; N=not a store and forward trip\n",
        "* #### **trip_duration** - duration of the trip in seconds"
      ]
    },
    {
      "cell_type": "markdown",
      "metadata": {
        "id": "iGSe9IyFarYp"
      },
      "source": [
        "#**Why is it important ?**"
      ]
    },
    {
      "cell_type": "markdown",
      "metadata": {
        "id": "9Xh5KkC-aimR"
      },
      "source": [
        "##**Predicting the duration of a taxi trip is very important since a user would always like to know precisely how much time it would require of him to travel from one place to another. Given the rising popularity of app-based taxi usage through common vendors like Ola and Uber, competitive pricing has to be offered to ensure users choose them. Prediction of duration and price of trips can help users to plan their trips properly, thus keeping potential margins for traffic congestions.**"
      ]
    },
    {
      "cell_type": "markdown",
      "metadata": {
        "id": "Ge3hVOYcbidD"
      },
      "source": [
        "#<b>Setting the stage for our Dataset</b>\n"
      ]
    },
    {
      "cell_type": "code",
      "metadata": {
        "id": "7lX5XMhYboR2"
      },
      "source": [
        "#Bringing in all the important libraries required for a smooth data visualization.\n",
        "\n",
        "import numpy as np\n",
        "import pandas as pd\n",
        "import matplotlib.pyplot as plt\n",
        "%matplotlib inline\n",
        "import seaborn as sns\n",
        "import warnings\n",
        "warnings.filterwarnings('ignore')"
      ],
      "execution_count": null,
      "outputs": []
    },
    {
      "cell_type": "code",
      "metadata": {
        "colab": {
          "base_uri": "https://localhost:8080/"
        },
        "id": "U3zTg9yub9LZ",
        "outputId": "82d07a78-1dd8-4849-c545-202a4ecbddb6"
      },
      "source": [
        "from google.colab import drive\n",
        "drive.mount('/content/drive')"
      ],
      "execution_count": null,
      "outputs": [
        {
          "name": "stdout",
          "output_type": "stream",
          "text": [
            "Mounted at /content/drive\n"
          ]
        }
      ]
    },
    {
      "cell_type": "code",
      "metadata": {
        "id": "58zPE_s6cHw_"
      },
      "source": [
        "#the raw data\n",
        "\n",
        "raw_df = pd.read_csv('/content/drive/MyDrive/Copy of NYC Taxi Data.csv')"
      ],
      "execution_count": null,
      "outputs": []
    },
    {
      "cell_type": "code",
      "metadata": {
        "colab": {
          "base_uri": "https://localhost:8080/",
          "height": 309
        },
        "id": "wnHNGDkVcRW_",
        "outputId": "21e5d9d9-4ab6-424f-f4bc-ad0008ec1b4d"
      },
      "source": [
        "raw_df.head()"
      ],
      "execution_count": null,
      "outputs": [
        {
          "data": {
            "text/html": [
              "<div>\n",
              "<style scoped>\n",
              "    .dataframe tbody tr th:only-of-type {\n",
              "        vertical-align: middle;\n",
              "    }\n",
              "\n",
              "    .dataframe tbody tr th {\n",
              "        vertical-align: top;\n",
              "    }\n",
              "\n",
              "    .dataframe thead th {\n",
              "        text-align: right;\n",
              "    }\n",
              "</style>\n",
              "<table border=\"1\" class=\"dataframe\">\n",
              "  <thead>\n",
              "    <tr style=\"text-align: right;\">\n",
              "      <th></th>\n",
              "      <th>id</th>\n",
              "      <th>vendor_id</th>\n",
              "      <th>pickup_datetime</th>\n",
              "      <th>dropoff_datetime</th>\n",
              "      <th>passenger_count</th>\n",
              "      <th>pickup_longitude</th>\n",
              "      <th>pickup_latitude</th>\n",
              "      <th>dropoff_longitude</th>\n",
              "      <th>dropoff_latitude</th>\n",
              "      <th>store_and_fwd_flag</th>\n",
              "      <th>trip_duration</th>\n",
              "    </tr>\n",
              "  </thead>\n",
              "  <tbody>\n",
              "    <tr>\n",
              "      <th>0</th>\n",
              "      <td>id2875421</td>\n",
              "      <td>2</td>\n",
              "      <td>2016-03-14 17:24:55</td>\n",
              "      <td>2016-03-14 17:32:30</td>\n",
              "      <td>1</td>\n",
              "      <td>-73.982155</td>\n",
              "      <td>40.767937</td>\n",
              "      <td>-73.964630</td>\n",
              "      <td>40.765602</td>\n",
              "      <td>N</td>\n",
              "      <td>455</td>\n",
              "    </tr>\n",
              "    <tr>\n",
              "      <th>1</th>\n",
              "      <td>id2377394</td>\n",
              "      <td>1</td>\n",
              "      <td>2016-06-12 00:43:35</td>\n",
              "      <td>2016-06-12 00:54:38</td>\n",
              "      <td>1</td>\n",
              "      <td>-73.980415</td>\n",
              "      <td>40.738564</td>\n",
              "      <td>-73.999481</td>\n",
              "      <td>40.731152</td>\n",
              "      <td>N</td>\n",
              "      <td>663</td>\n",
              "    </tr>\n",
              "    <tr>\n",
              "      <th>2</th>\n",
              "      <td>id3858529</td>\n",
              "      <td>2</td>\n",
              "      <td>2016-01-19 11:35:24</td>\n",
              "      <td>2016-01-19 12:10:48</td>\n",
              "      <td>1</td>\n",
              "      <td>-73.979027</td>\n",
              "      <td>40.763939</td>\n",
              "      <td>-74.005333</td>\n",
              "      <td>40.710087</td>\n",
              "      <td>N</td>\n",
              "      <td>2124</td>\n",
              "    </tr>\n",
              "    <tr>\n",
              "      <th>3</th>\n",
              "      <td>id3504673</td>\n",
              "      <td>2</td>\n",
              "      <td>2016-04-06 19:32:31</td>\n",
              "      <td>2016-04-06 19:39:40</td>\n",
              "      <td>1</td>\n",
              "      <td>-74.010040</td>\n",
              "      <td>40.719971</td>\n",
              "      <td>-74.012268</td>\n",
              "      <td>40.706718</td>\n",
              "      <td>N</td>\n",
              "      <td>429</td>\n",
              "    </tr>\n",
              "    <tr>\n",
              "      <th>4</th>\n",
              "      <td>id2181028</td>\n",
              "      <td>2</td>\n",
              "      <td>2016-03-26 13:30:55</td>\n",
              "      <td>2016-03-26 13:38:10</td>\n",
              "      <td>1</td>\n",
              "      <td>-73.973053</td>\n",
              "      <td>40.793209</td>\n",
              "      <td>-73.972923</td>\n",
              "      <td>40.782520</td>\n",
              "      <td>N</td>\n",
              "      <td>435</td>\n",
              "    </tr>\n",
              "  </tbody>\n",
              "</table>\n",
              "</div>"
            ],
            "text/plain": [
              "          id  vendor_id  ... store_and_fwd_flag trip_duration\n",
              "0  id2875421          2  ...                  N           455\n",
              "1  id2377394          1  ...                  N           663\n",
              "2  id3858529          2  ...                  N          2124\n",
              "3  id3504673          2  ...                  N           429\n",
              "4  id2181028          2  ...                  N           435\n",
              "\n",
              "[5 rows x 11 columns]"
            ]
          },
          "execution_count": 4,
          "metadata": {},
          "output_type": "execute_result"
        }
      ]
    },
    {
      "cell_type": "code",
      "metadata": {
        "colab": {
          "base_uri": "https://localhost:8080/"
        },
        "id": "LJsBWQcIcVNz",
        "outputId": "8bb0cc5a-3e0d-4451-d397-de6482a4b736"
      },
      "source": [
        "raw_df.shape"
      ],
      "execution_count": null,
      "outputs": [
        {
          "data": {
            "text/plain": [
              "(1458644, 11)"
            ]
          },
          "execution_count": 5,
          "metadata": {},
          "output_type": "execute_result"
        }
      ]
    },
    {
      "cell_type": "code",
      "metadata": {
        "colab": {
          "base_uri": "https://localhost:8080/"
        },
        "id": "djHdsWgCckuy",
        "outputId": "6f96805f-650c-4de9-8c48-12fdee5c8ac8"
      },
      "source": [
        "raw_df.info()"
      ],
      "execution_count": null,
      "outputs": [
        {
          "name": "stdout",
          "output_type": "stream",
          "text": [
            "<class 'pandas.core.frame.DataFrame'>\n",
            "RangeIndex: 1458644 entries, 0 to 1458643\n",
            "Data columns (total 11 columns):\n",
            " #   Column              Non-Null Count    Dtype  \n",
            "---  ------              --------------    -----  \n",
            " 0   id                  1458644 non-null  object \n",
            " 1   vendor_id           1458644 non-null  int64  \n",
            " 2   pickup_datetime     1458644 non-null  object \n",
            " 3   dropoff_datetime    1458644 non-null  object \n",
            " 4   passenger_count     1458644 non-null  int64  \n",
            " 5   pickup_longitude    1458644 non-null  float64\n",
            " 6   pickup_latitude     1458644 non-null  float64\n",
            " 7   dropoff_longitude   1458644 non-null  float64\n",
            " 8   dropoff_latitude    1458644 non-null  float64\n",
            " 9   store_and_fwd_flag  1458644 non-null  object \n",
            " 10  trip_duration       1458644 non-null  int64  \n",
            "dtypes: float64(4), int64(3), object(4)\n",
            "memory usage: 122.4+ MB\n"
          ]
        }
      ]
    },
    {
      "cell_type": "code",
      "metadata": {
        "colab": {
          "base_uri": "https://localhost:8080/",
          "height": 297
        },
        "id": "JsCezoT5cp8u",
        "outputId": "fe909f63-0634-4723-a5e2-51b7ef5dba24"
      },
      "source": [
        "raw_df.describe()"
      ],
      "execution_count": null,
      "outputs": [
        {
          "data": {
            "text/html": [
              "<div>\n",
              "<style scoped>\n",
              "    .dataframe tbody tr th:only-of-type {\n",
              "        vertical-align: middle;\n",
              "    }\n",
              "\n",
              "    .dataframe tbody tr th {\n",
              "        vertical-align: top;\n",
              "    }\n",
              "\n",
              "    .dataframe thead th {\n",
              "        text-align: right;\n",
              "    }\n",
              "</style>\n",
              "<table border=\"1\" class=\"dataframe\">\n",
              "  <thead>\n",
              "    <tr style=\"text-align: right;\">\n",
              "      <th></th>\n",
              "      <th>vendor_id</th>\n",
              "      <th>passenger_count</th>\n",
              "      <th>pickup_longitude</th>\n",
              "      <th>pickup_latitude</th>\n",
              "      <th>dropoff_longitude</th>\n",
              "      <th>dropoff_latitude</th>\n",
              "      <th>trip_duration</th>\n",
              "    </tr>\n",
              "  </thead>\n",
              "  <tbody>\n",
              "    <tr>\n",
              "      <th>count</th>\n",
              "      <td>1.458644e+06</td>\n",
              "      <td>1.458644e+06</td>\n",
              "      <td>1.458644e+06</td>\n",
              "      <td>1.458644e+06</td>\n",
              "      <td>1.458644e+06</td>\n",
              "      <td>1.458644e+06</td>\n",
              "      <td>1.458644e+06</td>\n",
              "    </tr>\n",
              "    <tr>\n",
              "      <th>mean</th>\n",
              "      <td>1.534950e+00</td>\n",
              "      <td>1.664530e+00</td>\n",
              "      <td>-7.397349e+01</td>\n",
              "      <td>4.075092e+01</td>\n",
              "      <td>-7.397342e+01</td>\n",
              "      <td>4.075180e+01</td>\n",
              "      <td>9.594923e+02</td>\n",
              "    </tr>\n",
              "    <tr>\n",
              "      <th>std</th>\n",
              "      <td>4.987772e-01</td>\n",
              "      <td>1.314242e+00</td>\n",
              "      <td>7.090186e-02</td>\n",
              "      <td>3.288119e-02</td>\n",
              "      <td>7.064327e-02</td>\n",
              "      <td>3.589056e-02</td>\n",
              "      <td>5.237432e+03</td>\n",
              "    </tr>\n",
              "    <tr>\n",
              "      <th>min</th>\n",
              "      <td>1.000000e+00</td>\n",
              "      <td>0.000000e+00</td>\n",
              "      <td>-1.219333e+02</td>\n",
              "      <td>3.435970e+01</td>\n",
              "      <td>-1.219333e+02</td>\n",
              "      <td>3.218114e+01</td>\n",
              "      <td>1.000000e+00</td>\n",
              "    </tr>\n",
              "    <tr>\n",
              "      <th>25%</th>\n",
              "      <td>1.000000e+00</td>\n",
              "      <td>1.000000e+00</td>\n",
              "      <td>-7.399187e+01</td>\n",
              "      <td>4.073735e+01</td>\n",
              "      <td>-7.399133e+01</td>\n",
              "      <td>4.073588e+01</td>\n",
              "      <td>3.970000e+02</td>\n",
              "    </tr>\n",
              "    <tr>\n",
              "      <th>50%</th>\n",
              "      <td>2.000000e+00</td>\n",
              "      <td>1.000000e+00</td>\n",
              "      <td>-7.398174e+01</td>\n",
              "      <td>4.075410e+01</td>\n",
              "      <td>-7.397975e+01</td>\n",
              "      <td>4.075452e+01</td>\n",
              "      <td>6.620000e+02</td>\n",
              "    </tr>\n",
              "    <tr>\n",
              "      <th>75%</th>\n",
              "      <td>2.000000e+00</td>\n",
              "      <td>2.000000e+00</td>\n",
              "      <td>-7.396733e+01</td>\n",
              "      <td>4.076836e+01</td>\n",
              "      <td>-7.396301e+01</td>\n",
              "      <td>4.076981e+01</td>\n",
              "      <td>1.075000e+03</td>\n",
              "    </tr>\n",
              "    <tr>\n",
              "      <th>max</th>\n",
              "      <td>2.000000e+00</td>\n",
              "      <td>9.000000e+00</td>\n",
              "      <td>-6.133553e+01</td>\n",
              "      <td>5.188108e+01</td>\n",
              "      <td>-6.133553e+01</td>\n",
              "      <td>4.392103e+01</td>\n",
              "      <td>3.526282e+06</td>\n",
              "    </tr>\n",
              "  </tbody>\n",
              "</table>\n",
              "</div>"
            ],
            "text/plain": [
              "          vendor_id  passenger_count  ...  dropoff_latitude  trip_duration\n",
              "count  1.458644e+06     1.458644e+06  ...      1.458644e+06   1.458644e+06\n",
              "mean   1.534950e+00     1.664530e+00  ...      4.075180e+01   9.594923e+02\n",
              "std    4.987772e-01     1.314242e+00  ...      3.589056e-02   5.237432e+03\n",
              "min    1.000000e+00     0.000000e+00  ...      3.218114e+01   1.000000e+00\n",
              "25%    1.000000e+00     1.000000e+00  ...      4.073588e+01   3.970000e+02\n",
              "50%    2.000000e+00     1.000000e+00  ...      4.075452e+01   6.620000e+02\n",
              "75%    2.000000e+00     2.000000e+00  ...      4.076981e+01   1.075000e+03\n",
              "max    2.000000e+00     9.000000e+00  ...      4.392103e+01   3.526282e+06\n",
              "\n",
              "[8 rows x 7 columns]"
            ]
          },
          "execution_count": 7,
          "metadata": {},
          "output_type": "execute_result"
        }
      ]
    },
    {
      "cell_type": "code",
      "metadata": {
        "id": "mLUuXEjTcvMZ"
      },
      "source": [
        "#dealing with the null values\n",
        "def missing_values(df):\n",
        "\n",
        "  #total of missing values for each column\n",
        "  total_missing_value = df.isna().sum()\n",
        "\n",
        "  #percentage of missing values \n",
        "  percent_missing_value = total_missing_value*100/len(df)\n",
        "\n",
        "  #making a table of the above results\n",
        "  table = pd.concat([total_missing_value,percent_missing_value],axis = 1)\n",
        "\n",
        "  #renaming the columns\n",
        "  table.rename(columns = {0:'missing values',1:'percent of missing values'},inplace = True)\n",
        "\n",
        "  #sorting the table in decreasing order by percentage of missing values\n",
        "  missing_values_table = table.sort_values('percent of missing values',ascending = False).round(1)\n",
        "\n",
        "  return missing_values_table"
      ],
      "execution_count": null,
      "outputs": []
    },
    {
      "cell_type": "code",
      "metadata": {
        "colab": {
          "base_uri": "https://localhost:8080/",
          "height": 390
        },
        "id": "dIRy-WIJdZx7",
        "outputId": "20711c22-60b9-4602-970c-ec1e3e7acdc3"
      },
      "source": [
        "missing_values(raw_df)"
      ],
      "execution_count": null,
      "outputs": [
        {
          "data": {
            "text/html": [
              "<div>\n",
              "<style scoped>\n",
              "    .dataframe tbody tr th:only-of-type {\n",
              "        vertical-align: middle;\n",
              "    }\n",
              "\n",
              "    .dataframe tbody tr th {\n",
              "        vertical-align: top;\n",
              "    }\n",
              "\n",
              "    .dataframe thead th {\n",
              "        text-align: right;\n",
              "    }\n",
              "</style>\n",
              "<table border=\"1\" class=\"dataframe\">\n",
              "  <thead>\n",
              "    <tr style=\"text-align: right;\">\n",
              "      <th></th>\n",
              "      <th>missing values</th>\n",
              "      <th>percent of missing values</th>\n",
              "    </tr>\n",
              "  </thead>\n",
              "  <tbody>\n",
              "    <tr>\n",
              "      <th>id</th>\n",
              "      <td>0</td>\n",
              "      <td>0.0</td>\n",
              "    </tr>\n",
              "    <tr>\n",
              "      <th>vendor_id</th>\n",
              "      <td>0</td>\n",
              "      <td>0.0</td>\n",
              "    </tr>\n",
              "    <tr>\n",
              "      <th>pickup_datetime</th>\n",
              "      <td>0</td>\n",
              "      <td>0.0</td>\n",
              "    </tr>\n",
              "    <tr>\n",
              "      <th>dropoff_datetime</th>\n",
              "      <td>0</td>\n",
              "      <td>0.0</td>\n",
              "    </tr>\n",
              "    <tr>\n",
              "      <th>passenger_count</th>\n",
              "      <td>0</td>\n",
              "      <td>0.0</td>\n",
              "    </tr>\n",
              "    <tr>\n",
              "      <th>pickup_longitude</th>\n",
              "      <td>0</td>\n",
              "      <td>0.0</td>\n",
              "    </tr>\n",
              "    <tr>\n",
              "      <th>pickup_latitude</th>\n",
              "      <td>0</td>\n",
              "      <td>0.0</td>\n",
              "    </tr>\n",
              "    <tr>\n",
              "      <th>dropoff_longitude</th>\n",
              "      <td>0</td>\n",
              "      <td>0.0</td>\n",
              "    </tr>\n",
              "    <tr>\n",
              "      <th>dropoff_latitude</th>\n",
              "      <td>0</td>\n",
              "      <td>0.0</td>\n",
              "    </tr>\n",
              "    <tr>\n",
              "      <th>store_and_fwd_flag</th>\n",
              "      <td>0</td>\n",
              "      <td>0.0</td>\n",
              "    </tr>\n",
              "    <tr>\n",
              "      <th>trip_duration</th>\n",
              "      <td>0</td>\n",
              "      <td>0.0</td>\n",
              "    </tr>\n",
              "  </tbody>\n",
              "</table>\n",
              "</div>"
            ],
            "text/plain": [
              "                    missing values  percent of missing values\n",
              "id                               0                        0.0\n",
              "vendor_id                        0                        0.0\n",
              "pickup_datetime                  0                        0.0\n",
              "dropoff_datetime                 0                        0.0\n",
              "passenger_count                  0                        0.0\n",
              "pickup_longitude                 0                        0.0\n",
              "pickup_latitude                  0                        0.0\n",
              "dropoff_longitude                0                        0.0\n",
              "dropoff_latitude                 0                        0.0\n",
              "store_and_fwd_flag               0                        0.0\n",
              "trip_duration                    0                        0.0"
            ]
          },
          "execution_count": 9,
          "metadata": {},
          "output_type": "execute_result"
        }
      ]
    },
    {
      "cell_type": "markdown",
      "metadata": {
        "id": "_HDS56h8nujv"
      },
      "source": [
        "###The dataset has no null values."
      ]
    },
    {
      "cell_type": "code",
      "metadata": {
        "colab": {
          "base_uri": "https://localhost:8080/"
        },
        "id": "aUn6p-UIddK2",
        "outputId": "db9f1325-43a1-4d8f-e34b-bded17747637"
      },
      "source": [
        "#checking for numeric columns\n",
        "numeric_features = raw_df.describe().columns\n",
        "numeric_features"
      ],
      "execution_count": null,
      "outputs": [
        {
          "data": {
            "text/plain": [
              "Index(['vendor_id', 'passenger_count', 'pickup_longitude', 'pickup_latitude',\n",
              "       'dropoff_longitude', 'dropoff_latitude', 'trip_duration'],\n",
              "      dtype='object')"
            ]
          },
          "execution_count": 10,
          "metadata": {},
          "output_type": "execute_result"
        }
      ]
    },
    {
      "cell_type": "code",
      "metadata": {
        "colab": {
          "base_uri": "https://localhost:8080/"
        },
        "id": "RG-piw9IdvE_",
        "outputId": "f93572b9-e955-4355-f85b-d5c0839812d4"
      },
      "source": [
        "#checking for categorical columns\n",
        "categorical_features = raw_df.describe(include=['object','category']).columns\n",
        "categorical_features"
      ],
      "execution_count": null,
      "outputs": [
        {
          "data": {
            "text/plain": [
              "Index(['id', 'pickup_datetime', 'dropoff_datetime', 'store_and_fwd_flag'], dtype='object')"
            ]
          },
          "execution_count": 11,
          "metadata": {},
          "output_type": "execute_result"
        }
      ]
    },
    {
      "cell_type": "markdown",
      "metadata": {
        "id": "3HZCdKUgmQnt"
      },
      "source": [
        "#<b>Data preparation for Exploratory Data Analysis and Visualizations.</b>\n",
        "\n",
        "##Before we start running our model on the dataset. First we will try to interpret what the data is trying to convey by extracting necessary information from it and using EDA and graphical visualisations."
      ]
    },
    {
      "cell_type": "code",
      "metadata": {
        "id": "UAPMxiimhR8L"
      },
      "source": [
        "df = raw_df.copy()"
      ],
      "execution_count": null,
      "outputs": []
    },
    {
      "cell_type": "code",
      "metadata": {
        "id": "eiuR6pfOeCBv"
      },
      "source": [
        "#converting pickup_datetime and dropoff_datetime from object type to datetime to extract useful information from them\n",
        "df[[\"pickup_datetime\", \"dropoff_datetime\"]] = df[[\"pickup_datetime\", \"dropoff_datetime\"]].apply(pd.to_datetime)\n"
      ],
      "execution_count": null,
      "outputs": []
    },
    {
      "cell_type": "markdown",
      "metadata": {
        "id": "cOj0aVL8mfHY"
      },
      "source": [
        "###We can see that we have coordinates in the form of longitude and latitude for pickup and dropoff. But, we can’t really gather any insights or draw conclusions from that.So, the most obvious feature that we can extract from this is distance.And for that we will use Haversine to extract distance from given coordinates in km."
      ]
    },
    {
      "cell_type": "code",
      "metadata": {
        "id": "mcJ78amxkrAZ"
      },
      "source": [
        "#installing haversine\n",
        "%%capture\n",
        "pip install haversine"
      ],
      "execution_count": null,
      "outputs": []
    },
    {
      "cell_type": "code",
      "metadata": {
        "id": "Jp0kMxXqkq9N"
      },
      "source": [
        "#importing haversine library\n",
        "from haversine import haversine,Unit"
      ],
      "execution_count": null,
      "outputs": []
    },
    {
      "cell_type": "code",
      "metadata": {
        "id": "w8pSImgdkq6E"
      },
      "source": [
        "def haversine_distance(df):\n",
        "    pickup = (df['pickup_latitude'], df['pickup_longitude'])\n",
        "    dropoff = (df['dropoff_latitude'], df['dropoff_longitude'])\n",
        "    return haversine(pickup, dropoff)"
      ],
      "execution_count": null,
      "outputs": []
    },
    {
      "cell_type": "code",
      "metadata": {
        "id": "pn1TJLQIkq32"
      },
      "source": [
        "df['distance'] = df.apply(lambda x: haversine_distance(x), axis = 1)\n"
      ],
      "execution_count": null,
      "outputs": []
    },
    {
      "cell_type": "code",
      "metadata": {
        "colab": {
          "base_uri": "https://localhost:8080/"
        },
        "id": "YKyFj-FtZ5ns",
        "outputId": "39a48d18-609c-4e79-8319-03783cd8eee6"
      },
      "source": [
        "df.shape"
      ],
      "execution_count": null,
      "outputs": [
        {
          "data": {
            "text/plain": [
              "(1458644, 12)"
            ]
          },
          "execution_count": 18,
          "metadata": {},
          "output_type": "execute_result"
        }
      ]
    },
    {
      "cell_type": "code",
      "metadata": {
        "colab": {
          "base_uri": "https://localhost:8080/",
          "height": 458
        },
        "id": "z48QpBlcVU8Z",
        "outputId": "a3c047d3-e451-4e49-e386-c74ff18841ea"
      },
      "source": [
        "plt.figure(figsize=(10,7))\n",
        "sns.boxplot(df['distance'], orient='horizontal')\n",
        "plt.title('barplot for distance distribution before fixing outliers')\n",
        "plt.show()"
      ],
      "execution_count": null,
      "outputs": [
        {
          "data": {
            "image/png": "[encoded data removed]",
            "text/plain": [
              "<Figure size 720x504 with 1 Axes>"
            ]
          },
          "metadata": {},
          "output_type": "display_data"
        }
      ]
    },
    {
      "cell_type": "code",
      "metadata": {
        "colab": {
          "base_uri": "https://localhost:8080/"
        },
        "id": "kYLZ0wslXfZ8",
        "outputId": "77ba16af-9976-4eb5-c385-c7e261077dca"
      },
      "source": [
        "df[df['distance'] == 0].value_counts().sum()"
      ],
      "execution_count": null,
      "outputs": [
        {
          "data": {
            "text/plain": [
              "5897"
            ]
          },
          "execution_count": 11,
          "metadata": {},
          "output_type": "execute_result"
        }
      ]
    },
    {
      "cell_type": "markdown",
      "metadata": {
        "id": "R1YPmAK_m3GG"
      },
      "source": [
        "###We can see that close to 6000 trips have travelled zero distance which is a bit absurd but some possible reasons for that could be that \n",
        "###1.The passenger or the driver cancelled the trip just after the acceptance of the trip. \n",
        "###2.Technical issue occured due to which dropoff location couldn't be recorded properly so that is why it is the same as the pickup location.\n",
        "###3.There was an issue with GPS tracker.\n",
        "\n",
        "###Let's get rid of the records where distance was zero as they are not going to add any value to our model."
      ]
    },
    {
      "cell_type": "code",
      "metadata": {
        "id": "gscgdnZvX01F"
      },
      "source": [
        "df = df[~(df.distance == 0)]"
      ],
      "execution_count": null,
      "outputs": []
    },
    {
      "cell_type": "code",
      "metadata": {
        "colab": {
          "base_uri": "https://localhost:8080/"
        },
        "id": "gMNWbzrxaB0W",
        "outputId": "b68e50b8-7cea-47dd-9d99-0aaef13dda61"
      },
      "source": [
        "df.shape"
      ],
      "execution_count": null,
      "outputs": [
        {
          "data": {
            "text/plain": [
              "(1452747, 12)"
            ]
          },
          "execution_count": 22,
          "metadata": {},
          "output_type": "execute_result"
        }
      ]
    },
    {
      "cell_type": "code",
      "metadata": {
        "id": "MIAbJ3mlWvXL"
      },
      "source": [
        "#Creating a new feature speed\n",
        "df['speed'] = (df.distance/(df.trip_duration/3600))\n"
      ],
      "execution_count": null,
      "outputs": []
    },
    {
      "cell_type": "code",
      "metadata": {
        "colab": {
          "base_uri": "https://localhost:8080/",
          "height": 458
        },
        "id": "2WvkHr7QW7B5",
        "outputId": "3c5f267f-4bc7-4753-c4f1-fede28076ef3"
      },
      "source": [
        "plt.figure(figsize=(10,7))\n",
        "sns.boxplot(df['speed'], orient='horizontal')\n",
        "plt.title('barplot for speed distribution before fixing outliers')\n",
        "plt.show()"
      ],
      "execution_count": null,
      "outputs": [
        {
          "data": {
            "image/png": "[encoded data removed]",
            "text/plain": [
              "<Figure size 720x504 with 1 Axes>"
            ]
          },
          "metadata": {},
          "output_type": "display_data"
        }
      ]
    },
    {
      "cell_type": "code",
      "metadata": {
        "colab": {
          "base_uri": "https://localhost:8080/"
        },
        "id": "txWWLIHXaIMn",
        "outputId": "1d889ef4-cb73-4e56-d906-5c337d4f74c5"
      },
      "source": [
        "df.shape"
      ],
      "execution_count": null,
      "outputs": [
        {
          "data": {
            "text/plain": [
              "(1452747, 13)"
            ]
          },
          "execution_count": 25,
          "metadata": {},
          "output_type": "execute_result"
        }
      ]
    },
    {
      "cell_type": "markdown",
      "metadata": {
        "id": "9VgwP6gHINMT"
      },
      "source": [
        "### As far as knowledge goes NYC cab providers don't give Bugatti Chiron or  McLaren F1 as a cab so we'll get rid of all the records where the speed exceeded the 110 kmph :). NYC speed limit for state highways is close to 90 kmph."
      ]
    },
    {
      "cell_type": "code",
      "metadata": {
        "id": "N97cW0QQYW5B"
      },
      "source": [
        "df = df[~(df.speed < 1)]\n",
        "df = df[~(df.speed > 110)]"
      ],
      "execution_count": null,
      "outputs": []
    },
    {
      "cell_type": "code",
      "metadata": {
        "colab": {
          "base_uri": "https://localhost:8080/"
        },
        "id": "KexyyTdgarRH",
        "outputId": "0725bede-84a9-4719-ab0a-244b0a896b86"
      },
      "source": [
        "df.shape"
      ],
      "execution_count": null,
      "outputs": [
        {
          "data": {
            "text/plain": [
              "(1445255, 13)"
            ]
          },
          "execution_count": 27,
          "metadata": {},
          "output_type": "execute_result"
        }
      ]
    },
    {
      "cell_type": "code",
      "metadata": {
        "colab": {
          "base_uri": "https://localhost:8080/",
          "height": 458
        },
        "id": "mGyZ1uLnYkRB",
        "outputId": "88320db0-f21c-4cb2-fda7-290e79ecf944"
      },
      "source": [
        "plt.figure(figsize=(10,7))\n",
        "sns.boxplot(df['speed'], orient='horizontal')\n",
        "plt.title('barplot for speed distribution after fixing outliers')\n",
        "plt.show()"
      ],
      "execution_count": null,
      "outputs": [
        {
          "data": {
            "image/png": "[encoded data removed]",
            "text/plain": [
              "<Figure size 720x504 with 1 Axes>"
            ]
          },
          "metadata": {},
          "output_type": "display_data"
        }
      ]
    },
    {
      "cell_type": "markdown",
      "metadata": {
        "id": "Hy2hBnCLjEBp"
      },
      "source": [
        "###We can remove the trips with passenger counts with more than 6 since they are very few in number and seem to be quite odd to fit more than 6 people in a single cab and for passenger with zero count we will replace them with floor value of the mean of the passenger count because maybe the driver forgot to pin the number of passengers."
      ]
    },
    {
      "cell_type": "code",
      "metadata": {
        "colab": {
          "base_uri": "https://localhost:8080/"
        },
        "id": "07YVN5OWjoID",
        "outputId": "a901f547-bfb8-4561-ac56-8c43642aee72"
      },
      "source": [
        "df.passenger_count.mean()"
      ],
      "execution_count": null,
      "outputs": [
        {
          "data": {
            "text/plain": [
              "1.6642502534154873"
            ]
          },
          "execution_count": 15,
          "metadata": {},
          "output_type": "execute_result"
        }
      ]
    },
    {
      "cell_type": "code",
      "metadata": {
        "id": "HBE--F2Yj4DN"
      },
      "source": [
        "df = df[df.passenger_count <=6]\n",
        "df['passenger_count'] = df.passenger_count.map(lambda x: 1 if x == 0 else x)\n"
      ],
      "execution_count": null,
      "outputs": []
    },
    {
      "cell_type": "code",
      "metadata": {
        "colab": {
          "base_uri": "https://localhost:8080/"
        },
        "id": "MmGvGJN4jdN2",
        "outputId": "b63d4ca8-4241-48ec-b140-74e34fd120db"
      },
      "source": [
        "df.passenger_count.value_counts()"
      ],
      "execution_count": null,
      "outputs": [
        {
          "data": {
            "text/plain": [
              "1    1024149\n",
              "2     208433\n",
              "5      77385\n",
              "3      59370\n",
              "6      47791\n",
              "4      28127\n",
              "Name: passenger_count, dtype: int64"
            ]
          },
          "execution_count": 31,
          "metadata": {},
          "output_type": "execute_result"
        }
      ]
    },
    {
      "cell_type": "code",
      "metadata": {
        "colab": {
          "base_uri": "https://localhost:8080/",
          "height": 459
        },
        "id": "kjy1exBPeauJ",
        "outputId": "2c0ee296-5a2f-49f6-d0c6-f3eb16083ba2"
      },
      "source": [
        "plt.figure(figsize=(10,7))\n",
        "sns.countplot(df['passenger_count'])\n",
        "plt.title('Distribution of Passengers')\n",
        "plt.show()"
      ],
      "execution_count": null,
      "outputs": [
        {
          "data": {
            "image/png": "[encoded data removed]",
            "text/plain": [
              "<Figure size 720x504 with 1 Axes>"
            ]
          },
          "metadata": {},
          "output_type": "display_data"
        }
      ]
    },
    {
      "cell_type": "markdown",
      "metadata": {
        "id": "jaqUkx08nXzw"
      },
      "source": [
        "###Well it's quite visible that people don't like company while travelling and to be left alone atleast while travelling :). Very rarely it can be seen people travelling in a group.\n"
      ]
    },
    {
      "cell_type": "code",
      "metadata": {
        "id": "-y0iduGyfzGR"
      },
      "source": [
        "#Extracting information from pickup_datetime about the month, week and hour of pickup\n",
        "\n",
        "df['month'] = df.pickup_datetime.dt.month\n",
        "df['pickup_day']=df.pickup_datetime.dt.day_name()\n",
        "df['pickup_hour'] = df.pickup_datetime.dt.hour"
      ],
      "execution_count": null,
      "outputs": []
    },
    {
      "cell_type": "code",
      "metadata": {
        "id": "Ko6GIeDulLxi"
      },
      "source": [
        "#Extracting information from dropoff_datetime about the month, week and hour of dropoff\n",
        "\n",
        "df['dropff_day']=df.dropoff_datetime.dt.day_name()\n",
        "df['dropff_hour'] = df.dropoff_datetime.dt.hour"
      ],
      "execution_count": null,
      "outputs": []
    },
    {
      "cell_type": "code",
      "metadata": {
        "colab": {
          "base_uri": "https://localhost:8080/",
          "height": 459
        },
        "id": "cTAOnUg0hi2u",
        "outputId": "9dd1330d-5b86-43b1-b360-8766c92e0dbb"
      },
      "source": [
        "plt.figure(figsize=(10,7))\n",
        "sns.countplot(x='pickup_day',data=df,palette='rocket_r')\n",
        "plt.title('Pickups done on each day of the week')\n",
        "plt.show()"
      ],
      "execution_count": null,
      "outputs": [
        {
          "data": {
            "image/png": "[encoded data removed]",
            "text/plain": [
              "<Figure size 720x504 with 1 Axes>"
            ]
          },
          "metadata": {},
          "output_type": "display_data"
        }
      ]
    },
    {
      "cell_type": "code",
      "metadata": {
        "colab": {
          "base_uri": "https://localhost:8080/",
          "height": 459
        },
        "id": "p7gH0BVElghi",
        "outputId": "fc4fa828-719a-4eb8-ce71-4a36746f56e2"
      },
      "source": [
        "plt.figure(figsize=(10,7))\n",
        "sns.countplot(x='dropff_day',data=df,palette='rocket_r')\n",
        "plt.title('Dropoffs done on each day of the week')\n",
        "plt.show()"
      ],
      "execution_count": null,
      "outputs": [
        {
          "data": {
            "image/png": "[encoded data removed]",
            "text/plain": [
              "<Figure size 720x504 with 1 Axes>"
            ]
          },
          "metadata": {},
          "output_type": "display_data"
        }
      ]
    },
    {
      "cell_type": "markdown",
      "metadata": {
        "id": "brB5J1J3oaS7"
      },
      "source": [
        "###Most number of pickups have happened on Friday while Monday has witnessed the least number of pickups. And same is the case when it comes for dropoffs."
      ]
    },
    {
      "cell_type": "code",
      "metadata": {
        "colab": {
          "base_uri": "https://localhost:8080/",
          "height": 459
        },
        "id": "aW-T5wv9h91d",
        "outputId": "45d4e6bc-75fa-41c3-cb93-52b63dce5c17"
      },
      "source": [
        "plt.figure(figsize=(10,7))\n",
        "sns.countplot(x='pickup_hour',data=df)\n",
        "plt.title('Pickups done by each hour of the day')\n",
        "plt.show()"
      ],
      "execution_count": null,
      "outputs": [
        {
          "data": {
            "image/png": "[encoded data removed]",
            "text/plain": [
              "<Figure size 720x504 with 1 Axes>"
            ]
          },
          "metadata": {},
          "output_type": "display_data"
        }
      ]
    },
    {
      "cell_type": "code",
      "metadata": {
        "colab": {
          "base_uri": "https://localhost:8080/",
          "height": 459
        },
        "id": "syi_c-CGl7R8",
        "outputId": "ff09771c-9bec-48d3-ef10-380d47ef8aad"
      },
      "source": [
        "plt.figure(figsize=(10,7))\n",
        "sns.countplot(x='dropff_hour',data=df)\n",
        "plt.title('Dropoffs done by each hour of the day')\n",
        "plt.show()"
      ],
      "execution_count": null,
      "outputs": [
        {
          "data": {
            "image/png": "[encoded data removed]",
            "text/plain": [
              "<Figure size 720x504 with 1 Axes>"
            ]
          },
          "metadata": {},
          "output_type": "display_data"
        }
      ]
    },
    {
      "cell_type": "markdown",
      "metadata": {
        "id": "6ktTBq28o7Au"
      },
      "source": [
        "###We can observe that most pickups and drops happen round the time between 3 PM to 9 PM . While the least number of drops and pickups occur between 2 AM to 7 AM. A possible reason for this could be that most number of office going people travel via metro or whatever public transport service is there in the morning for travelling but when heading back from office people are actually very tired to travel in a public transport so they prefer cabs.\n"
      ]
    },
    {
      "cell_type": "code",
      "metadata": {
        "colab": {
          "base_uri": "https://localhost:8080/",
          "height": 459
        },
        "id": "snxjfzZdi3VO",
        "outputId": "a54dedd7-2d09-4362-b525-596db16a12d1"
      },
      "source": [
        "plt.figure(figsize=(10,7))\n",
        "sns.countplot(x='store_and_fwd_flag',data=df)\n",
        "plt.title('distribution of store and forward flag')\n",
        "plt.show()"
      ],
      "execution_count": null,
      "outputs": [
        {
          "data": {
            "image/png": "[encoded data removed]",
            "text/plain": [
              "<Figure size 720x504 with 1 Axes>"
            ]
          },
          "metadata": {},
          "output_type": "display_data"
        }
      ]
    },
    {
      "cell_type": "markdown",
      "metadata": {
        "id": "8eM0yQHFw-Hb"
      },
      "source": [
        "###We can see that there are a minimal number of trips that were stored before forwarding.\n",
        "\n"
      ]
    },
    {
      "cell_type": "code",
      "metadata": {
        "colab": {
          "base_uri": "https://localhost:8080/",
          "height": 459
        },
        "id": "FvLTTsr0mC-K",
        "outputId": "150848af-7697-4648-b94f-28e18624e526"
      },
      "source": [
        "plt.figure(figsize=(10,7))\n",
        "sns.distplot(df['trip_duration'],kde=False)\n",
        "plt.title('disribution of trip duration')\n",
        "plt.show()\n"
      ],
      "execution_count": null,
      "outputs": [
        {
          "data": {
            "image/png": "[encoded data removed]",
            "text/plain": [
              "<Figure size 720x504 with 1 Axes>"
            ]
          },
          "metadata": {},
          "output_type": "display_data"
        }
      ]
    },
    {
      "cell_type": "code",
      "metadata": {
        "colab": {
          "base_uri": "https://localhost:8080/",
          "height": 459
        },
        "id": "YwKFx_QIM1Ec",
        "outputId": "8b222cbe-2e84-46e4-e6fc-d5561d2777d6"
      },
      "source": [
        "# Dependent variable 'trip_duration'\n",
        "plt.figure(figsize=(10,7))\n",
        "sns.distplot(np.log10(df['trip_duration']))\n",
        "plt.title('disribution of trip duration')\n",
        "plt.show()"
      ],
      "execution_count": null,
      "outputs": [
        {
          "data": {
            "image/png": "[encoded data removed]",
            "text/plain": [
              "<Figure size 720x504 with 1 Axes>"
            ]
          },
          "metadata": {},
          "output_type": "display_data"
        }
      ]
    },
    {
      "cell_type": "code",
      "metadata": {
        "colab": {
          "base_uri": "https://localhost:8080/",
          "height": 459
        },
        "id": "iIWCsX82tZc1",
        "outputId": "55841d87-42f7-4675-f746-496a5e99a119"
      },
      "source": [
        "plt.figure(figsize=(10,7))\n",
        "sns.boxplot(df['trip_duration'], orient='horizontal')\n",
        "plt.title('barplot for trip duration distribution before fixing outliers')\n",
        "plt.show()"
      ],
      "execution_count": null,
      "outputs": [
        {
          "data": {
            "image/png": "[encoded data removed]",
            "text/plain": [
              "<Figure size 720x504 with 1 Axes>"
            ]
          },
          "metadata": {},
          "output_type": "display_data"
        }
      ]
    },
    {
      "cell_type": "markdown",
      "metadata": {
        "id": "XYMWpWKJtPBb"
      },
      "source": [
        "###This histogram and boxplot show that there is extreme right skewness and hence there are some outliers."
      ]
    },
    {
      "cell_type": "code",
      "metadata": {
        "id": "MgGql88vpVR-"
      },
      "source": [
        "df = df[df.trip_duration <= 86392]"
      ],
      "execution_count": null,
      "outputs": []
    },
    {
      "cell_type": "code",
      "metadata": {
        "id": "CocnMU0g8zRk"
      },
      "source": [
        "df = df[~(df.trip_duration <= 60)]"
      ],
      "execution_count": null,
      "outputs": []
    },
    {
      "cell_type": "code",
      "metadata": {
        "colab": {
          "base_uri": "https://localhost:8080/",
          "height": 459
        },
        "id": "4b4ixS1rpVL-",
        "outputId": "68f4255a-5f82-4d87-e8d6-dfe9d922c9ca"
      },
      "source": [
        "plt.figure(figsize=(10,7))\n",
        "sns.boxplot(df['trip_duration'], orient='horizontal')\n",
        "plt.title('barplot for trip duration distribution after fixing outliers')\n",
        "plt.show()"
      ],
      "execution_count": null,
      "outputs": [
        {
          "data": {
            "image/png": "[encoded data removed]",
            "text/plain": [
              "<Figure size 720x504 with 1 Axes>"
            ]
          },
          "metadata": {},
          "output_type": "display_data"
        }
      ]
    },
    {
      "cell_type": "code",
      "metadata": {
        "colab": {
          "base_uri": "https://localhost:8080/",
          "height": 459
        },
        "id": "2UwNGxgHtkVV",
        "outputId": "93f9f232-5530-45ed-af06-ea864d7f325a"
      },
      "source": [
        "plt.figure(figsize=(10,7))\n",
        "sns.countplot(x='vendor_id',data=df)\n",
        "plt.title('count of trips provided by vendors')\n",
        "plt.show()"
      ],
      "execution_count": null,
      "outputs": [
        {
          "data": {
            "image/png": "[encoded data removed]",
            "text/plain": [
              "<Figure size 720x504 with 1 Axes>"
            ]
          },
          "metadata": {},
          "output_type": "display_data"
        }
      ]
    },
    {
      "cell_type": "markdown",
      "metadata": {
        "id": "i3GnLq9ruv_x"
      },
      "source": [
        "###Not that huge a difference can be observed in case of vendors."
      ]
    },
    {
      "cell_type": "code",
      "metadata": {
        "colab": {
          "base_uri": "https://localhost:8080/",
          "height": 443
        },
        "id": "jN6G9r42GJ99",
        "outputId": "562d61f0-cead-4431-dfea-33dd81141a0a"
      },
      "source": [
        "plt.figure(figsize=(10,7))\n",
        "sns.barplot(y='trip_duration',x='vendor_id',data=df,estimator=np.mean)\n",
        "plt.show()"
      ],
      "execution_count": null,
      "outputs": [
        {
          "data": {
            "image/png": "[encoded data removed]",
            "text/plain": [
              "<Figure size 720x504 with 1 Axes>"
            ]
          },
          "metadata": {},
          "output_type": "display_data"
        }
      ]
    },
    {
      "cell_type": "markdown",
      "metadata": {
        "id": "qN0yYlJTJNag"
      },
      "source": [
        "###It is evident from the above graph that vandor 2 has taken longer trips in comparison to vendor 1."
      ]
    },
    {
      "cell_type": "code",
      "metadata": {
        "colab": {
          "base_uri": "https://localhost:8080/",
          "height": 386
        },
        "id": "9qFCmcOcJYot",
        "outputId": "5cff3eb4-1845-4257-b20b-2908e804cb9a"
      },
      "source": [
        "plt.figure(figsize=(10,7))\n",
        "sns.catplot(y='trip_duration',x='store_and_fwd_flag',data=df)\n",
        "plt.show()"
      ],
      "execution_count": null,
      "outputs": [
        {
          "data": {
            "text/plain": [
              "<Figure size 720x504 with 0 Axes>"
            ]
          },
          "metadata": {},
          "output_type": "display_data"
        },
        {
          "data": {
            "image/png": "[encoded data removed]",
            "text/plain": [
              "<Figure size 360x360 with 1 Axes>"
            ]
          },
          "metadata": {},
          "output_type": "display_data"
        }
      ]
    },
    {
      "cell_type": "markdown",
      "metadata": {
        "id": "LmllS9iTL4x-"
      },
      "source": [
        "###Trips duration were longer for those whose flag was not stored before the trip started."
      ]
    },
    {
      "cell_type": "code",
      "metadata": {
        "colab": {
          "base_uri": "https://localhost:8080/",
          "height": 386
        },
        "id": "RlZX6K77JgkW",
        "outputId": "781db3d9-682e-45ce-cc68-19ed233f87ba"
      },
      "source": [
        "plt.figure(figsize=(10,7))\n",
        "sns.catplot(x='passenger_count',y='trip_duration',data=df)\n",
        "plt.show()"
      ],
      "execution_count": null,
      "outputs": [
        {
          "data": {
            "text/plain": [
              "<Figure size 720x504 with 0 Axes>"
            ]
          },
          "metadata": {},
          "output_type": "display_data"
        },
        {
          "data": {
            "image/png": "[encoded data removed]",
            "text/plain": [
              "<Figure size 360x360 with 1 Axes>"
            ]
          },
          "metadata": {},
          "output_type": "display_data"
        }
      ]
    },
    {
      "cell_type": "markdown",
      "metadata": {
        "id": "qfKtYz9Yqidq"
      },
      "source": [
        "###A very significant visible difference could not be established except the fact that trips of all the durations have been done for passenger count 1."
      ]
    },
    {
      "cell_type": "code",
      "metadata": {
        "colab": {
          "base_uri": "https://localhost:8080/",
          "height": 443
        },
        "id": "JmD4Ilu_MYoh",
        "outputId": "184528f1-aa38-465e-c207-8091ef03eea9"
      },
      "source": [
        "plt.figure(figsize=(10,7))\n",
        "sns.lineplot(x='pickup_hour',y='trip_duration',data=df,markers=True)\n",
        "plt.show()"
      ],
      "execution_count": null,
      "outputs": [
        {
          "data": {
            "image/png": "[encoded data removed]",
            "text/plain": [
              "<Figure size 720x504 with 1 Axes>"
            ]
          },
          "metadata": {},
          "output_type": "display_data"
        }
      ]
    },
    {
      "cell_type": "markdown",
      "metadata": {
        "id": "pp8oqJ35X-vO"
      },
      "source": [
        "###Pickup hours between 14 to 18 hours has experienced the highest trip durations maybe because of the traffic."
      ]
    },
    {
      "cell_type": "code",
      "metadata": {
        "colab": {
          "base_uri": "https://localhost:8080/",
          "height": 443
        },
        "id": "l37V7Y9GgKkW",
        "outputId": "ab70bf04-d769-492b-b3d9-fa8804e901dd"
      },
      "source": [
        "plt.figure(figsize=(10,7))\n",
        "sns.lineplot(x='pickup_day',y='trip_duration',data=df,markers=True)\n",
        "plt.show()"
      ],
      "execution_count": null,
      "outputs": [
        {
          "data": {
            "image/png": "[encoded data removed]",
            "text/plain": [
              "<Figure size 720x504 with 1 Axes>"
            ]
          },
          "metadata": {},
          "output_type": "display_data"
        }
      ]
    },
    {
      "cell_type": "code",
      "metadata": {
        "colab": {
          "base_uri": "https://localhost:8080/",
          "height": 442
        },
        "id": "4x0uo80Vglr3",
        "outputId": "bd414853-ca83-4282-d44f-2d57bcc88d23"
      },
      "source": [
        "plt.figure(figsize=(10,7))\n",
        "sns.lineplot(x='month',y='trip_duration',data=df,markers=True)\n",
        "plt.show()"
      ],
      "execution_count": null,
      "outputs": [
        {
          "data": {
            "image/png": "[encoded data removed]",
            "text/plain": [
              "<Figure size 720x504 with 1 Axes>"
            ]
          },
          "metadata": {},
          "output_type": "display_data"
        }
      ]
    },
    {
      "cell_type": "markdown",
      "metadata": {
        "id": "o3L4PAGYYy8c"
      },
      "source": [
        "###A possible reason for this behaviour could be that January, February have an average temperature of 4-5 degree celcius leading to low visibility because of smog and possibly people prefer not to take cabs as it is more prone to accidents but from March onwards the weather becomes more pleasant and people prefer cabs. "
      ]
    },
    {
      "cell_type": "code",
      "metadata": {
        "colab": {
          "base_uri": "https://localhost:8080/",
          "height": 458
        },
        "id": "a4V0uFnzhBXn",
        "outputId": "25665c91-a197-4c21-f5da-7f64094a68fc"
      },
      "source": [
        "plt.figure(figsize=(10,7))\n",
        "sns.jointplot(data=df, x=\"trip_duration\", y=\"distance\")\n",
        "plt.show()"
      ],
      "execution_count": null,
      "outputs": [
        {
          "data": {
            "text/plain": [
              "<Figure size 720x504 with 0 Axes>"
            ]
          },
          "metadata": {},
          "output_type": "display_data"
        },
        {
          "data": {
            "image/png": "[encoded data removed]",
            "text/plain": [
              "<Figure size 432x432 with 3 Axes>"
            ]
          },
          "metadata": {},
          "output_type": "display_data"
        }
      ]
    },
    {
      "cell_type": "markdown",
      "metadata": {
        "id": "oQu8WuHnWoKZ"
      },
      "source": [
        "###We can interpret some interesting observations from this graph - cluster can be seen for the distance from 0 to 25 kms and for the same the trip duration being in the range from 0 to 3-4 hrs.\n",
        "\n",
        "###2 or 3 trips are there with duration of almost whole day and still the distance tarvelled is close to 50kms and less than that. A possible and more logical reason could be that they might have booked the cab for the whole day for long trips most probably."
      ]
    },
    {
      "cell_type": "code",
      "metadata": {
        "colab": {
          "base_uri": "https://localhost:8080/",
          "height": 443
        },
        "id": "Z0CnHSrl3wWd",
        "outputId": "95708b9c-fb29-4571-a59b-d132babc93cc"
      },
      "source": [
        "groupby_1 = df.groupby(['pickup_hour']).distance.mean()\n",
        "plt.figure(figsize=(10,7))\n",
        "sns.lineplot(x = groupby_1.index,y=groupby_1.values,markers=True)\n",
        "plt.ylabel('Distance (km)')\n",
        "plt.show()"
      ],
      "execution_count": null,
      "outputs": [
        {
          "data": {
            "image/png": "[encoded data removed]",
            "text/plain": [
              "<Figure size 720x504 with 1 Axes>"
            ]
          },
          "metadata": {},
          "output_type": "display_data"
        }
      ]
    },
    {
      "cell_type": "code",
      "metadata": {
        "colab": {
          "base_uri": "https://localhost:8080/",
          "height": 443
        },
        "id": "J-90fuN-4dl9",
        "outputId": "29e4e7a2-1a03-4c7c-87e7-e668e5a07496"
      },
      "source": [
        "groupby_2 = df.groupby(['pickup_day']).distance.mean()\n",
        "plt.figure(figsize=(10,7))\n",
        "sns.lineplot(x = groupby_2.index,y=groupby_2.values,markers=True)\n",
        "plt.ylabel('Distance (km)')\n",
        "plt.show()"
      ],
      "execution_count": null,
      "outputs": [
        {
          "data": {
            "image/png": "[encoded data removed]",
            "text/plain": [
              "<Figure size 720x504 with 1 Axes>"
            ]
          },
          "metadata": {},
          "output_type": "display_data"
        }
      ]
    },
    {
      "cell_type": "code",
      "metadata": {
        "colab": {
          "base_uri": "https://localhost:8080/"
        },
        "id": "e9nIarM947Sg",
        "outputId": "ff556a5e-2b3b-435f-f225-0166a7f78d40"
      },
      "source": [
        "df.info()"
      ],
      "execution_count": null,
      "outputs": [
        {
          "name": "stdout",
          "output_type": "stream",
          "text": [
            "<class 'pandas.core.frame.DataFrame'>\n",
            "Int64Index: 1439744 entries, 0 to 1458643\n",
            "Data columns (total 18 columns):\n",
            " #   Column              Non-Null Count    Dtype         \n",
            "---  ------              --------------    -----         \n",
            " 0   id                  1439744 non-null  object        \n",
            " 1   vendor_id           1439744 non-null  int64         \n",
            " 2   pickup_datetime     1439744 non-null  datetime64[ns]\n",
            " 3   dropoff_datetime    1439744 non-null  datetime64[ns]\n",
            " 4   passenger_count     1439744 non-null  int64         \n",
            " 5   pickup_longitude    1439744 non-null  float64       \n",
            " 6   pickup_latitude     1439744 non-null  float64       \n",
            " 7   dropoff_longitude   1439744 non-null  float64       \n",
            " 8   dropoff_latitude    1439744 non-null  float64       \n",
            " 9   store_and_fwd_flag  1439744 non-null  object        \n",
            " 10  trip_duration       1439744 non-null  int64         \n",
            " 11  distance            1439744 non-null  float64       \n",
            " 12  speed               1439744 non-null  float64       \n",
            " 13  month               1439744 non-null  int64         \n",
            " 14  pickup_day          1439744 non-null  object        \n",
            " 15  pickup_hour         1439744 non-null  int64         \n",
            " 16  dropff_day          1439744 non-null  object        \n",
            " 17  dropff_hour         1439744 non-null  int64         \n",
            "dtypes: datetime64[ns](2), float64(6), int64(6), object(4)\n",
            "memory usage: 248.7+ MB\n"
          ]
        }
      ]
    },
    {
      "cell_type": "code",
      "metadata": {
        "colab": {
          "base_uri": "https://localhost:8080/",
          "height": 317
        },
        "id": "uMNA3LkR65Rv",
        "outputId": "3960ec82-9ffd-40fd-df96-9ddfa1c0fc6f"
      },
      "source": [
        "df.describe()"
      ],
      "execution_count": null,
      "outputs": [
        {
          "data": {
            "text/html": [
              "<div>\n",
              "<style scoped>\n",
              "    .dataframe tbody tr th:only-of-type {\n",
              "        vertical-align: middle;\n",
              "    }\n",
              "\n",
              "    .dataframe tbody tr th {\n",
              "        vertical-align: top;\n",
              "    }\n",
              "\n",
              "    .dataframe thead th {\n",
              "        text-align: right;\n",
              "    }\n",
              "</style>\n",
              "<table border=\"1\" class=\"dataframe\">\n",
              "  <thead>\n",
              "    <tr style=\"text-align: right;\">\n",
              "      <th></th>\n",
              "      <th>vendor_id</th>\n",
              "      <th>passenger_count</th>\n",
              "      <th>pickup_longitude</th>\n",
              "      <th>pickup_latitude</th>\n",
              "      <th>dropoff_longitude</th>\n",
              "      <th>dropoff_latitude</th>\n",
              "      <th>trip_duration</th>\n",
              "      <th>distance</th>\n",
              "      <th>speed</th>\n",
              "      <th>month</th>\n",
              "      <th>pickup_hour</th>\n",
              "      <th>dropff_hour</th>\n",
              "    </tr>\n",
              "  </thead>\n",
              "  <tbody>\n",
              "    <tr>\n",
              "      <th>count</th>\n",
              "      <td>1.439744e+06</td>\n",
              "      <td>1.439744e+06</td>\n",
              "      <td>1.439744e+06</td>\n",
              "      <td>1.439744e+06</td>\n",
              "      <td>1.439744e+06</td>\n",
              "      <td>1.439744e+06</td>\n",
              "      <td>1.439744e+06</td>\n",
              "      <td>1.439744e+06</td>\n",
              "      <td>1.439744e+06</td>\n",
              "      <td>1.439744e+06</td>\n",
              "      <td>1.439744e+06</td>\n",
              "      <td>1.439744e+06</td>\n",
              "    </tr>\n",
              "    <tr>\n",
              "      <th>mean</th>\n",
              "      <td>1.534412e+00</td>\n",
              "      <td>1.664950e+00</td>\n",
              "      <td>-7.397362e+01</td>\n",
              "      <td>4.075099e+01</td>\n",
              "      <td>-7.397353e+01</td>\n",
              "      <td>4.075189e+01</td>\n",
              "      <td>8.428669e+02</td>\n",
              "      <td>3.474868e+00</td>\n",
              "      <td>1.448372e+01</td>\n",
              "      <td>3.516643e+00</td>\n",
              "      <td>1.361405e+01</td>\n",
              "      <td>1.360748e+01</td>\n",
              "    </tr>\n",
              "    <tr>\n",
              "      <th>std</th>\n",
              "      <td>4.988146e-01</td>\n",
              "      <td>1.314139e+00</td>\n",
              "      <td>3.777181e-02</td>\n",
              "      <td>2.787622e-02</td>\n",
              "      <td>3.567781e-02</td>\n",
              "      <td>3.221956e-02</td>\n",
              "      <td>7.094623e+02</td>\n",
              "      <td>3.959168e+00</td>\n",
              "      <td>7.628685e+00</td>\n",
              "      <td>1.680869e+00</td>\n",
              "      <td>6.396653e+00</td>\n",
              "      <td>6.480527e+00</td>\n",
              "    </tr>\n",
              "    <tr>\n",
              "      <th>min</th>\n",
              "      <td>1.000000e+00</td>\n",
              "      <td>1.000000e+00</td>\n",
              "      <td>-7.545592e+01</td>\n",
              "      <td>3.980393e+01</td>\n",
              "      <td>-7.613572e+01</td>\n",
              "      <td>4.024363e+01</td>\n",
              "      <td>6.100000e+01</td>\n",
              "      <td>1.863055e-02</td>\n",
              "      <td>1.000492e+00</td>\n",
              "      <td>1.000000e+00</td>\n",
              "      <td>0.000000e+00</td>\n",
              "      <td>0.000000e+00</td>\n",
              "    </tr>\n",
              "    <tr>\n",
              "      <th>25%</th>\n",
              "      <td>1.000000e+00</td>\n",
              "      <td>1.000000e+00</td>\n",
              "      <td>-7.399187e+01</td>\n",
              "      <td>4.073742e+01</td>\n",
              "      <td>-7.399133e+01</td>\n",
              "      <td>4.073595e+01</td>\n",
              "      <td>4.010000e+02</td>\n",
              "      <td>1.256944e+00</td>\n",
              "      <td>9.229763e+00</td>\n",
              "      <td>2.000000e+00</td>\n",
              "      <td>9.000000e+00</td>\n",
              "      <td>9.000000e+00</td>\n",
              "    </tr>\n",
              "    <tr>\n",
              "      <th>50%</th>\n",
              "      <td>2.000000e+00</td>\n",
              "      <td>1.000000e+00</td>\n",
              "      <td>-7.398178e+01</td>\n",
              "      <td>4.075414e+01</td>\n",
              "      <td>-7.397978e+01</td>\n",
              "      <td>4.075456e+01</td>\n",
              "      <td>6.650000e+02</td>\n",
              "      <td>2.118666e+00</td>\n",
              "      <td>1.285943e+01</td>\n",
              "      <td>4.000000e+00</td>\n",
              "      <td>1.400000e+01</td>\n",
              "      <td>1.400000e+01</td>\n",
              "    </tr>\n",
              "    <tr>\n",
              "      <th>75%</th>\n",
              "      <td>2.000000e+00</td>\n",
              "      <td>2.000000e+00</td>\n",
              "      <td>-7.396750e+01</td>\n",
              "      <td>4.076836e+01</td>\n",
              "      <td>-7.396316e+01</td>\n",
              "      <td>4.076982e+01</td>\n",
              "      <td>1.076000e+03</td>\n",
              "      <td>3.911277e+00</td>\n",
              "      <td>1.788777e+01</td>\n",
              "      <td>5.000000e+00</td>\n",
              "      <td>1.900000e+01</td>\n",
              "      <td>1.900000e+01</td>\n",
              "    </tr>\n",
              "    <tr>\n",
              "      <th>max</th>\n",
              "      <td>2.000000e+00</td>\n",
              "      <td>6.000000e+00</td>\n",
              "      <td>-7.323800e+01</td>\n",
              "      <td>4.169680e+01</td>\n",
              "      <td>-7.271140e+01</td>\n",
              "      <td>4.169335e+01</td>\n",
              "      <td>8.582800e+04</td>\n",
              "      <td>1.914031e+02</td>\n",
              "      <td>1.091177e+02</td>\n",
              "      <td>6.000000e+00</td>\n",
              "      <td>2.300000e+01</td>\n",
              "      <td>2.300000e+01</td>\n",
              "    </tr>\n",
              "  </tbody>\n",
              "</table>\n",
              "</div>"
            ],
            "text/plain": [
              "          vendor_id  passenger_count  ...   pickup_hour   dropff_hour\n",
              "count  1.439744e+06     1.439744e+06  ...  1.439744e+06  1.439744e+06\n",
              "mean   1.534412e+00     1.664950e+00  ...  1.361405e+01  1.360748e+01\n",
              "std    4.988146e-01     1.314139e+00  ...  6.396653e+00  6.480527e+00\n",
              "min    1.000000e+00     1.000000e+00  ...  0.000000e+00  0.000000e+00\n",
              "25%    1.000000e+00     1.000000e+00  ...  9.000000e+00  9.000000e+00\n",
              "50%    2.000000e+00     1.000000e+00  ...  1.400000e+01  1.400000e+01\n",
              "75%    2.000000e+00     2.000000e+00  ...  1.900000e+01  1.900000e+01\n",
              "max    2.000000e+00     6.000000e+00  ...  2.300000e+01  2.300000e+01\n",
              "\n",
              "[8 rows x 12 columns]"
            ]
          },
          "execution_count": 57,
          "metadata": {},
          "output_type": "execute_result"
        }
      ]
    },
    {
      "cell_type": "markdown",
      "metadata": {
        "id": "tVOyU2069Vkf"
      },
      "source": [
        "#Given that we need to predict the trip duration from the features provided we will run regression model.\n",
        "#We will run 3 models on the given dataset:\n",
        "\n",
        "\n",
        "##1.  **Linear Regression.**\n",
        "##2.  **Random Forest.**\n",
        "##3.  **XGBoost.**\n",
        "\n",
        "\n",
        "\n"
      ]
    },
    {
      "cell_type": "code",
      "metadata": {
        "colab": {
          "base_uri": "https://localhost:8080/",
          "height": 872
        },
        "id": "_oAjb9_H-RnH",
        "outputId": "ef0a53d1-5aa4-41d4-f52c-5317bbd651ef"
      },
      "source": [
        "df_corr = df.drop(labels='trip_duration',axis=1)\n",
        "correlation = df_corr.corr()\n",
        "plt.figure(figsize=(15,15))\n",
        "sns.heatmap(correlation, cmap='RdYlGn', vmin=-1, vmax=1, square=True)\n",
        "plt.title(\"Correlation Heatmap\", fontsize=16)\n",
        "plt.show()"
      ],
      "execution_count": null,
      "outputs": [
        {
          "data": {
            "image/png": "[encoded data removed]",
            "text/plain": [
              "<Figure size 1080x1080 with 2 Axes>"
            ]
          },
          "metadata": {},
          "output_type": "display_data"
        }
      ]
    },
    {
      "cell_type": "code",
      "metadata": {
        "id": "GeGipFBnBXyF"
      },
      "source": [
        "# Import library for VIF\n",
        "from statsmodels.stats.outliers_influence import variance_inflation_factor\n",
        "\n",
        "def calc_vif(X):\n",
        "\n",
        "    # Calculating VIF\n",
        "    vif = pd.DataFrame()\n",
        "    vif[\"variables\"] = X.columns\n",
        "    vif[\"VIF\"] = [variance_inflation_factor(X.values, i) for i in range(X.shape[1])]\n",
        "\n",
        "    return(vif)"
      ],
      "execution_count": null,
      "outputs": []
    },
    {
      "cell_type": "code",
      "metadata": {
        "id": "m5XLDn6MDgV6"
      },
      "source": [
        "df_vif = df_corr.drop(columns=['id', 'pickup_datetime', 'dropoff_datetime','pickup_longitude', 'pickup_latitude',\n",
        "       'dropoff_longitude', 'dropoff_latitude', 'store_and_fwd_flag',\n",
        "       'pickup_day','dropff_day',\n",
        "       'dropff_hour','speed'])"
      ],
      "execution_count": null,
      "outputs": []
    },
    {
      "cell_type": "code",
      "metadata": {
        "colab": {
          "base_uri": "https://localhost:8080/",
          "height": 204
        },
        "id": "nCG5gTqfBYyG",
        "outputId": "0c095b69-66a3-472c-d3eb-eb53e754b7bb"
      },
      "source": [
        "calc_vif(df_vif)"
      ],
      "execution_count": null,
      "outputs": [
        {
          "data": {
            "text/html": [
              "<div>\n",
              "<style scoped>\n",
              "    .dataframe tbody tr th:only-of-type {\n",
              "        vertical-align: middle;\n",
              "    }\n",
              "\n",
              "    .dataframe tbody tr th {\n",
              "        vertical-align: top;\n",
              "    }\n",
              "\n",
              "    .dataframe thead th {\n",
              "        text-align: right;\n",
              "    }\n",
              "</style>\n",
              "<table border=\"1\" class=\"dataframe\">\n",
              "  <thead>\n",
              "    <tr style=\"text-align: right;\">\n",
              "      <th></th>\n",
              "      <th>variables</th>\n",
              "      <th>VIF</th>\n",
              "    </tr>\n",
              "  </thead>\n",
              "  <tbody>\n",
              "    <tr>\n",
              "      <th>0</th>\n",
              "      <td>vendor_id</td>\n",
              "      <td>6.911603</td>\n",
              "    </tr>\n",
              "    <tr>\n",
              "      <th>1</th>\n",
              "      <td>passenger_count</td>\n",
              "      <td>2.819662</td>\n",
              "    </tr>\n",
              "    <tr>\n",
              "      <th>2</th>\n",
              "      <td>distance</td>\n",
              "      <td>1.708531</td>\n",
              "    </tr>\n",
              "    <tr>\n",
              "      <th>3</th>\n",
              "      <td>month</td>\n",
              "      <td>4.202105</td>\n",
              "    </tr>\n",
              "    <tr>\n",
              "      <th>4</th>\n",
              "      <td>pickup_hour</td>\n",
              "      <td>4.302427</td>\n",
              "    </tr>\n",
              "  </tbody>\n",
              "</table>\n",
              "</div>"
            ],
            "text/plain": [
              "         variables       VIF\n",
              "0        vendor_id  6.911603\n",
              "1  passenger_count  2.819662\n",
              "2         distance  1.708531\n",
              "3            month  4.202105\n",
              "4      pickup_hour  4.302427"
            ]
          },
          "execution_count": 61,
          "metadata": {},
          "output_type": "execute_result"
        }
      ]
    },
    {
      "cell_type": "code",
      "metadata": {
        "colab": {
          "base_uri": "https://localhost:8080/",
          "height": 296
        },
        "id": "ufOu1QSOCf02",
        "outputId": "5a524e2e-1dbf-44c4-fc04-72a9b6564171"
      },
      "source": [
        "sns.scatterplot(data=df, x=\"distance\", y=\"trip_duration\")\n"
      ],
      "execution_count": null,
      "outputs": [
        {
          "data": {
            "text/plain": [
              "<matplotlib.axes._subplots.AxesSubplot at 0x7f94a7b40e90>"
            ]
          },
          "execution_count": 62,
          "metadata": {},
          "output_type": "execute_result"
        },
        {
          "data": {
            "image/png": "[encoded data removed]",
            "text/plain": [
              "<Figure size 432x288 with 1 Axes>"
            ]
          },
          "metadata": {},
          "output_type": "display_data"
        }
      ]
    },
    {
      "cell_type": "code",
      "metadata": {
        "colab": {
          "base_uri": "https://localhost:8080/",
          "height": 296
        },
        "id": "wUX5E4QDF9PZ",
        "outputId": "f94a857b-5c7d-4c88-f983-6e92ce01e94b"
      },
      "source": [
        "sns.scatterplot(data=df, x=\"speed\", y=\"trip_duration\")\n"
      ],
      "execution_count": null,
      "outputs": [
        {
          "data": {
            "text/plain": [
              "<matplotlib.axes._subplots.AxesSubplot at 0x7f94a7aa0590>"
            ]
          },
          "execution_count": 63,
          "metadata": {},
          "output_type": "execute_result"
        },
        {
          "data": {
            "image/png": "[encoded data removed]",
            "text/plain": [
              "<Figure size 432x288 with 1 Axes>"
            ]
          },
          "metadata": {},
          "output_type": "display_data"
        }
      ]
    },
    {
      "cell_type": "markdown",
      "metadata": {
        "id": "I-BFdk_F7jfB"
      },
      "source": [
        "#***LINEAR REGRESSON***"
      ]
    },
    {
      "cell_type": "code",
      "metadata": {
        "id": "ZueM1QQWP1Yc"
      },
      "source": [
        "#importing the libraries required for linear regression\n",
        "from sklearn.metrics import r2_score\n",
        "from sklearn.preprocessing import MinMaxScaler\n",
        "from sklearn.model_selection import train_test_split \n",
        "from sklearn.linear_model import LinearRegression\n",
        "from sklearn import metrics\n",
        "from sklearn.metrics import r2_score\n"
      ],
      "execution_count": null,
      "outputs": []
    },
    {
      "cell_type": "code",
      "metadata": {
        "id": "us6Ui-RMGBr2"
      },
      "source": [
        "#creating a copy of the df for linear regression\n",
        "lr_df = df.copy()"
      ],
      "execution_count": 52,
      "outputs": []
    },
    {
      "cell_type": "code",
      "metadata": {
        "id": "CbLSqWEg74b0"
      },
      "source": [
        "#week number of the year\n",
        "lr_df['pickup_week'] = lr_df.pickup_datetime.dt.week\n",
        "\n",
        "#week day number starts with monday = 0\n",
        "lr_df['pickup_day'] = lr_df.pickup_datetime.dt.weekday\n",
        "\n",
        "#minute of the hour\n",
        "lr_df['minute'] = lr_df.pickup_datetime.dt.minute\n",
        "\n",
        "#minute of the day\n",
        "lr_df['pickup_minute'] = lr_df['pickup_hour'] * 60 + lr_df['minute']\n",
        "\n",
        "lr_df.drop(columns=['minute'],inplace=True)\n"
      ],
      "execution_count": 53,
      "outputs": []
    },
    {
      "cell_type": "code",
      "metadata": {
        "colab": {
          "base_uri": "https://localhost:8080/",
          "height": 165
        },
        "id": "55uk3uWZ74At",
        "outputId": "b9099a35-16de-4617-a14f-4b5379fa1614"
      },
      "source": [
        "lr_df.head(2)"
      ],
      "execution_count": 54,
      "outputs": [
        {
          "output_type": "execute_result",
          "data": {
            "text/html": [
              "<div>\n",
              "<style scoped>\n",
              "    .dataframe tbody tr th:only-of-type {\n",
              "        vertical-align: middle;\n",
              "    }\n",
              "\n",
              "    .dataframe tbody tr th {\n",
              "        vertical-align: top;\n",
              "    }\n",
              "\n",
              "    .dataframe thead th {\n",
              "        text-align: right;\n",
              "    }\n",
              "</style>\n",
              "<table border=\"1\" class=\"dataframe\">\n",
              "  <thead>\n",
              "    <tr style=\"text-align: right;\">\n",
              "      <th></th>\n",
              "      <th>id</th>\n",
              "      <th>vendor_id</th>\n",
              "      <th>pickup_datetime</th>\n",
              "      <th>dropoff_datetime</th>\n",
              "      <th>passenger_count</th>\n",
              "      <th>pickup_longitude</th>\n",
              "      <th>pickup_latitude</th>\n",
              "      <th>dropoff_longitude</th>\n",
              "      <th>dropoff_latitude</th>\n",
              "      <th>store_and_fwd_flag</th>\n",
              "      <th>trip_duration</th>\n",
              "      <th>distance</th>\n",
              "      <th>speed</th>\n",
              "      <th>month</th>\n",
              "      <th>pickup_day</th>\n",
              "      <th>pickup_hour</th>\n",
              "      <th>dropff_day</th>\n",
              "      <th>dropff_hour</th>\n",
              "      <th>pickup_week</th>\n",
              "      <th>pickup_minute</th>\n",
              "    </tr>\n",
              "  </thead>\n",
              "  <tbody>\n",
              "    <tr>\n",
              "      <th>0</th>\n",
              "      <td>id2875421</td>\n",
              "      <td>2</td>\n",
              "      <td>2016-03-14 17:24:55</td>\n",
              "      <td>2016-03-14 17:32:30</td>\n",
              "      <td>1</td>\n",
              "      <td>-73.982155</td>\n",
              "      <td>40.767937</td>\n",
              "      <td>-73.964630</td>\n",
              "      <td>40.765602</td>\n",
              "      <td>N</td>\n",
              "      <td>455</td>\n",
              "      <td>1.498523</td>\n",
              "      <td>11.856445</td>\n",
              "      <td>3</td>\n",
              "      <td>0</td>\n",
              "      <td>17</td>\n",
              "      <td>Monday</td>\n",
              "      <td>17</td>\n",
              "      <td>11</td>\n",
              "      <td>1044</td>\n",
              "    </tr>\n",
              "    <tr>\n",
              "      <th>1</th>\n",
              "      <td>id2377394</td>\n",
              "      <td>1</td>\n",
              "      <td>2016-06-12 00:43:35</td>\n",
              "      <td>2016-06-12 00:54:38</td>\n",
              "      <td>1</td>\n",
              "      <td>-73.980415</td>\n",
              "      <td>40.738564</td>\n",
              "      <td>-73.999481</td>\n",
              "      <td>40.731152</td>\n",
              "      <td>N</td>\n",
              "      <td>663</td>\n",
              "      <td>1.805510</td>\n",
              "      <td>9.803672</td>\n",
              "      <td>6</td>\n",
              "      <td>6</td>\n",
              "      <td>0</td>\n",
              "      <td>Sunday</td>\n",
              "      <td>0</td>\n",
              "      <td>23</td>\n",
              "      <td>43</td>\n",
              "    </tr>\n",
              "  </tbody>\n",
              "</table>\n",
              "</div>"
            ],
            "text/plain": [
              "          id  vendor_id  ... pickup_week pickup_minute\n",
              "0  id2875421          2  ...          11          1044\n",
              "1  id2377394          1  ...          23            43\n",
              "\n",
              "[2 rows x 20 columns]"
            ]
          },
          "metadata": {},
          "execution_count": 54
        }
      ]
    },
    {
      "cell_type": "code",
      "metadata": {
        "id": "mFCceaTM73Od"
      },
      "source": [
        "#dummify the categorical variables \n",
        "lr_df = pd.get_dummies(lr_df,columns =['vendor_id', 'passenger_count', 'store_and_fwd_flag','month','pickup_day', 'pickup_hour','pickup_week'],\n",
        "                        prefix=[\"vendor\", \"passenger\",\"flag\",\"month\",\"day\",\"hour\",\"week\"])"
      ],
      "execution_count": 55,
      "outputs": []
    },
    {
      "cell_type": "code",
      "metadata": {
        "id": "f4RTMeou74TC"
      },
      "source": [
        "#get rid of the columns that we don't need\n",
        "#to avoid the dummy trap we will drop one column for every dummified categorical column\n",
        "lr_df.drop(columns=['id','pickup_datetime', 'dropoff_datetime','speed','dropff_day','dropff_hour',\n",
        "                    'vendor_1','passenger_1', 'flag_N','month_1','day_0','hour_0','week_1'],inplace=True)"
      ],
      "execution_count": 56,
      "outputs": []
    },
    {
      "cell_type": "code",
      "metadata": {
        "colab": {
          "base_uri": "https://localhost:8080/"
        },
        "id": "zriM2Ape7209",
        "outputId": "97026c83-bfe9-415c-aaa0-a5af0e7773fd"
      },
      "source": [
        "print(f'The shape of our dataset is:{lr_df.shape}')"
      ],
      "execution_count": 59,
      "outputs": [
        {
          "output_type": "stream",
          "name": "stdout",
          "text": [
            "The shape of our dataset is:(1439744, 74)\n"
          ]
        }
      ]
    },
    {
      "cell_type": "code",
      "metadata": {
        "colab": {
          "base_uri": "https://localhost:8080/"
        },
        "id": "5RlYmWdV73Gy",
        "outputId": "b7588245-c1b5-41a5-d910-c4301d4f194f"
      },
      "source": [
        "lr_df.columns"
      ],
      "execution_count": 60,
      "outputs": [
        {
          "output_type": "execute_result",
          "data": {
            "text/plain": [
              "Index(['pickup_longitude', 'pickup_latitude', 'dropoff_longitude',\n",
              "       'dropoff_latitude', 'trip_duration', 'distance', 'pickup_minute',\n",
              "       'vendor_2', 'passenger_2', 'passenger_3', 'passenger_4', 'passenger_5',\n",
              "       'passenger_6', 'flag_Y', 'month_2', 'month_3', 'month_4', 'month_5',\n",
              "       'month_6', 'day_1', 'day_2', 'day_3', 'day_4', 'day_5', 'day_6',\n",
              "       'hour_1', 'hour_2', 'hour_3', 'hour_4', 'hour_5', 'hour_6', 'hour_7',\n",
              "       'hour_8', 'hour_9', 'hour_10', 'hour_11', 'hour_12', 'hour_13',\n",
              "       'hour_14', 'hour_15', 'hour_16', 'hour_17', 'hour_18', 'hour_19',\n",
              "       'hour_20', 'hour_21', 'hour_22', 'hour_23', 'week_2', 'week_3',\n",
              "       'week_4', 'week_5', 'week_6', 'week_7', 'week_8', 'week_9', 'week_10',\n",
              "       'week_11', 'week_12', 'week_13', 'week_14', 'week_15', 'week_16',\n",
              "       'week_17', 'week_18', 'week_19', 'week_20', 'week_21', 'week_22',\n",
              "       'week_23', 'week_24', 'week_25', 'week_26', 'week_53'],\n",
              "      dtype='object')"
            ]
          },
          "metadata": {},
          "execution_count": 60
        }
      ]
    },
    {
      "cell_type": "code",
      "metadata": {
        "id": "83Mtpc2H72uC"
      },
      "source": [
        "#list of features to be used for training and testing \n",
        "features_lr = ['pickup_longitude', 'pickup_latitude', 'dropoff_longitude',\n",
        "       'dropoff_latitude', 'distance', 'pickup_minute',\n",
        "       'vendor_2', 'passenger_2', 'passenger_3', 'passenger_4', 'passenger_5',\n",
        "       'passenger_6', 'flag_Y', 'month_2', 'month_3', 'month_4', 'month_5',\n",
        "       'month_6', 'day_1', 'day_2', 'day_3', 'day_4', 'day_5', 'day_6',\n",
        "       'hour_1', 'hour_2', 'hour_3', 'hour_4', 'hour_5', 'hour_6', 'hour_7',\n",
        "       'hour_8', 'hour_9', 'hour_10', 'hour_11', 'hour_12', 'hour_13',\n",
        "       'hour_14', 'hour_15', 'hour_16', 'hour_17', 'hour_18', 'hour_19',\n",
        "       'hour_20', 'hour_21', 'hour_22', 'hour_23', 'week_2', 'week_3',\n",
        "       'week_4', 'week_5', 'week_6', 'week_7', 'week_8', 'week_9', 'week_10',\n",
        "       'week_11', 'week_12', 'week_13', 'week_14', 'week_15', 'week_16',\n",
        "       'week_17', 'week_18', 'week_19', 'week_20', 'week_21', 'week_22',\n",
        "       'week_23', 'week_24', 'week_25', 'week_26', 'week_53']"
      ],
      "execution_count": 61,
      "outputs": []
    },
    {
      "cell_type": "code",
      "metadata": {
        "id": "DM_ZySsy72sM"
      },
      "source": [
        "#creating an array of independent variable for faster run of our model\n",
        "X_lr = np.array(lr_df[features_lr])"
      ],
      "execution_count": 62,
      "outputs": []
    },
    {
      "cell_type": "code",
      "metadata": {
        "id": "2qhfUH_aLQ12"
      },
      "source": [
        "# using minmacscalar to build the scaler model to help tackle the outlier effect \n",
        "scaler = MinMaxScaler()\n",
        "\n",
        "# fit \n",
        "scaler.fit(X_lr)\n",
        "\n",
        "# transform \n",
        "X_lr = scaler.transform(X_lr)"
      ],
      "execution_count": 63,
      "outputs": []
    },
    {
      "cell_type": "code",
      "metadata": {
        "id": "9otDaE7C72oa"
      },
      "source": [
        "#array of dependent variable\n",
        "y_lr = np.array(np.log(lr_df['trip_duration']))"
      ],
      "execution_count": 108,
      "outputs": []
    },
    {
      "cell_type": "code",
      "metadata": {
        "colab": {
          "base_uri": "https://localhost:8080/"
        },
        "id": "NhBtXvCR72ev",
        "outputId": "7d8c49d9-8d71-4536-fe7c-91bcf8a60337"
      },
      "source": [
        "#train test split of the model in 80:20 ratio\n",
        "X_lr_train, X_lr_test, y_lr_train, y_lr_test = train_test_split( X_lr,y_lr , test_size = 0.2, random_state = 123) \n",
        "print(X_lr_train.shape)\n",
        "print(X_lr_test.shape)"
      ],
      "execution_count": 109,
      "outputs": [
        {
          "output_type": "stream",
          "name": "stdout",
          "text": [
            "(1151795, 73)\n",
            "(287949, 73)\n"
          ]
        }
      ]
    },
    {
      "cell_type": "code",
      "metadata": {
        "id": "cvEtfJlT72UW"
      },
      "source": [
        "#fitting the model on the train split\n",
        "regressor = LinearRegression().fit(X_lr_train, y_lr_train)"
      ],
      "execution_count": 110,
      "outputs": []
    },
    {
      "cell_type": "code",
      "metadata": {
        "colab": {
          "base_uri": "https://localhost:8080/"
        },
        "id": "P-ZqcnFIIK6e",
        "outputId": "7eb2518c-80a7-4235-d5db-cbea688ba699"
      },
      "source": [
        "#predicting on the test split\n",
        "y_lr_pred = regressor.predict(X_lr_test)\n",
        "\n",
        "\n",
        "#root mean squared error \n",
        "rmse = np.sqrt(metrics.mean_squared_error(y_lr_test,y_lr_pred))\n",
        "print(f'Root mean squared error for Linear regression model is :{rmse}')\n"
      ],
      "execution_count": 111,
      "outputs": [
        {
          "output_type": "stream",
          "name": "stdout",
          "text": [
            "Root mean squared error for Linear regression model is :0.5127208826250649\n"
          ]
        }
      ]
    },
    {
      "cell_type": "code",
      "metadata": {
        "colab": {
          "base_uri": "https://localhost:8080/"
        },
        "id": "IEdhqlVbIKm8",
        "outputId": "c17f456e-a167-4975-b1a2-ef06dbb4eb3f"
      },
      "source": [
        "#R2 score\n",
        "print(f'R2 score for the Linear Regression model is : {r2_score(y_lr_test,y_lr_pred)}')"
      ],
      "execution_count": 114,
      "outputs": [
        {
          "output_type": "stream",
          "name": "stdout",
          "text": [
            "R2 score for the Linear Regression model is : 0.503824496309677\n"
          ]
        }
      ]
    },
    {
      "cell_type": "markdown",
      "metadata": {
        "id": "40z2KZdHUYpP"
      },
      "source": [
        "#**Our model has been able to predict 55% of the dependent variables given the independent variables. Not a good score to start with so we will move forward with other algorithms.We could have used Lasso and Ridge regression but that still won't make that big an improvement that we would stop there.So we will try some other model to train and test our data on.**"
      ]
    },
    {
      "cell_type": "code",
      "metadata": {
        "colab": {
          "base_uri": "https://localhost:8080/"
        },
        "id": "JXdZxsUj72Jc",
        "outputId": "245ef841-3c61-4705-c825-8966b34fb04e"
      },
      "source": [
        "#estimated coefficients for the model\n",
        "print(f'Coefficents for our Linear Regression model are: \\n\\n{regressor.coef_}')"
      ],
      "execution_count": 78,
      "outputs": [
        {
          "output_type": "stream",
          "name": "stdout",
          "text": [
            "Coefficents for our Linear Regression model are: \n",
            "\n",
            "[-1.74020957e+03  1.00745376e+03 -3.02209334e+03 -1.89760836e+03\n",
            "  2.65594777e+04 -2.33944675e+02  1.02442877e+00  2.39089851e+01\n",
            "  2.82914537e+01  4.11115680e+01  6.46883645e+00  5.71552233e+00\n",
            "  3.77814485e+01  6.96724862e+13  6.96724862e+13  6.96724862e+13\n",
            "  6.96724862e+13  6.96724862e+13  7.69447530e+01  9.75635047e+01\n",
            "  1.08386895e+02  8.93461109e+01  7.27527319e+00 -5.85217498e+01\n",
            " -1.53839047e+01 -2.81147102e+01 -4.58681252e+01 -1.12580859e+02\n",
            " -1.97744086e+02 -7.84943252e+01  1.10304070e+02  2.41300379e+02\n",
            "  2.76669794e+02  2.92509766e+02  3.20212891e+02  3.34123047e+02\n",
            "  3.43141968e+02  3.82210938e+02  4.13644531e+02  4.15046875e+02\n",
            "  4.08218750e+02  3.68687500e+02  2.97089844e+02  2.40957031e+02\n",
            "  2.32847656e+02  2.50023438e+02  2.31785156e+02  2.98648987e+01\n",
            "  4.19760742e+01  1.52666992e+02 -6.96724862e+13 -6.96724862e+13\n",
            " -6.96724862e+13 -6.96724862e+13 -6.96724862e+13 -6.96724862e+13\n",
            " -6.96724862e+13 -6.96724862e+13 -6.96724862e+13 -6.96724862e+13\n",
            " -6.96724862e+13 -6.96724862e+13 -6.96724862e+13 -6.96724862e+13\n",
            " -6.96724862e+13 -6.96724862e+13 -6.96724862e+13 -6.96724862e+13\n",
            " -6.96724862e+13 -6.96724862e+13 -6.96724862e+13 -6.96724862e+13\n",
            " -3.06835938e+01]\n"
          ]
        }
      ]
    },
    {
      "cell_type": "code",
      "metadata": {
        "colab": {
          "base_uri": "https://localhost:8080/"
        },
        "id": "rj1VL44KILRL",
        "outputId": "e2c46553-9251-4920-ceae-abf27a99cc8b"
      },
      "source": [
        "#estimated intercept for the model\n",
        "print(f'Intercept for our Linear Regression model is: \\n\\n{regressor.intercept_}')\n"
      ],
      "execution_count": 79,
      "outputs": [
        {
          "output_type": "stream",
          "name": "stdout",
          "text": [
            "Intercept for our Linear Regression model is: \n",
            "\n",
            "3334.7166221616503\n"
          ]
        }
      ]
    },
    {
      "cell_type": "markdown",
      "metadata": {
        "id": "38cczzYdhG92"
      },
      "source": [
        "#***RANDOM FOREST***"
      ]
    },
    {
      "cell_type": "code",
      "metadata": {
        "id": "qo6ps1yjVm77"
      },
      "source": [
        "#Importing the important libraries required to run the random forest model\n",
        "from sklearn.ensemble import RandomForestRegressor\n",
        "from sklearn.metrics import mean_squared_error\n",
        "from sklearn.datasets import make_regression\n",
        "from matplotlib import pyplot"
      ],
      "execution_count": null,
      "outputs": []
    },
    {
      "cell_type": "code",
      "metadata": {
        "id": "LNAquA_ahSHa"
      },
      "source": [
        "rf_df = df.copy()"
      ],
      "execution_count": 80,
      "outputs": []
    },
    {
      "cell_type": "code",
      "metadata": {
        "id": "iMCp79e-hSBA"
      },
      "source": [
        "#week number of the year\n",
        "rf_df['pickup_week'] = rf_df.pickup_datetime.dt.week\n",
        "\n",
        "#week day number starts with monday = 0\n",
        "rf_df['pickup_day'] = rf_df.pickup_datetime.dt.weekday\n",
        "\n",
        "#minute of the hour\n",
        "rf_df['minute'] = rf_df.pickup_datetime.dt.minute\n",
        "\n",
        "#minute of the day\n",
        "rf_df['pickup_minute'] = rf_df['pickup_hour'] * 60 + rf_df['minute']\n",
        "\n",
        "rf_df.drop(columns=['minute'],inplace=True)"
      ],
      "execution_count": 81,
      "outputs": []
    },
    {
      "cell_type": "code",
      "metadata": {
        "id": "FT46OGMUhR_Y"
      },
      "source": [
        "#get rid of the columns that we don't need\n",
        "rf_df.drop(columns=['id','pickup_datetime', 'dropoff_datetime','speed','dropff_day','dropff_hour'],inplace=True)"
      ],
      "execution_count": 82,
      "outputs": []
    },
    {
      "cell_type": "code",
      "metadata": {
        "id": "9o25jPyppOfp"
      },
      "source": [
        "#dummify the required variables \n",
        "rf_df = pd.get_dummies(rf_df,columns =['vendor_id','store_and_fwd_flag'],\n",
        "                        prefix=[\"vendor\",\"flag\"])"
      ],
      "execution_count": 83,
      "outputs": []
    },
    {
      "cell_type": "code",
      "metadata": {
        "colab": {
          "base_uri": "https://localhost:8080/"
        },
        "id": "gKogOa14hR6D",
        "outputId": "c733c60c-b3f0-4ce9-a5ec-138d8b21f3f5"
      },
      "source": [
        "rf_df.columns"
      ],
      "execution_count": 84,
      "outputs": [
        {
          "output_type": "execute_result",
          "data": {
            "text/plain": [
              "Index(['passenger_count', 'pickup_longitude', 'pickup_latitude',\n",
              "       'dropoff_longitude', 'dropoff_latitude', 'trip_duration', 'distance',\n",
              "       'month', 'pickup_day', 'pickup_hour', 'pickup_week', 'pickup_minute',\n",
              "       'vendor_1', 'vendor_2', 'flag_N', 'flag_Y'],\n",
              "      dtype='object')"
            ]
          },
          "metadata": {},
          "execution_count": 84
        }
      ]
    },
    {
      "cell_type": "code",
      "metadata": {
        "id": "OnGLfChjhRz0"
      },
      "source": [
        "#list of features to be used for training and testing \n",
        "\n",
        "features_rf = ['passenger_count', 'pickup_longitude', 'pickup_latitude',\n",
        "       'dropoff_longitude', 'dropoff_latitude', 'distance',\n",
        "       'month', 'pickup_day', 'pickup_hour', 'pickup_week', 'pickup_minute',\n",
        "       'vendor_1', 'vendor_2', 'flag_N', 'flag_Y']"
      ],
      "execution_count": 85,
      "outputs": []
    },
    {
      "cell_type": "code",
      "metadata": {
        "id": "IPtqReD_hRvb"
      },
      "source": [
        "rf_df['trip_duration'] = np.log(rf_df['trip_duration'].values)\n"
      ],
      "execution_count": 86,
      "outputs": []
    },
    {
      "cell_type": "code",
      "metadata": {
        "id": "DFg2MIJbhOfo"
      },
      "source": [
        "X_rf = np.array(rf_df[features_rf])"
      ],
      "execution_count": 87,
      "outputs": []
    },
    {
      "cell_type": "code",
      "metadata": {
        "id": "QxJhSCdfhOcf"
      },
      "source": [
        "y_rf = np.array(rf_df['trip_duration'])"
      ],
      "execution_count": 88,
      "outputs": []
    },
    {
      "cell_type": "code",
      "metadata": {
        "colab": {
          "base_uri": "https://localhost:8080/"
        },
        "id": "3W3ecNFWhOUG",
        "outputId": "39b10238-c0cd-4a0c-d9ca-ef7a06300b99"
      },
      "source": [
        "#train test split of the model in 80:20 ratio\n",
        "\n",
        "X_rf_train, X_rf_test, y_rf_train, y_rf_test = train_test_split( X_rf,y_rf , test_size = 0.20, random_state = 123) \n",
        "print(X_rf_train.shape)\n",
        "print(X_rf_test.shape)"
      ],
      "execution_count": 89,
      "outputs": [
        {
          "output_type": "stream",
          "name": "stdout",
          "text": [
            "(1151795, 15)\n",
            "(287949, 15)\n"
          ]
        }
      ]
    },
    {
      "cell_type": "code",
      "metadata": {
        "colab": {
          "base_uri": "https://localhost:8080/"
        },
        "id": "z4wnmpnShOHe",
        "outputId": "7c378925-1cf4-4e64-e425-6164eafef439"
      },
      "source": [
        "# Import the model we are using\n",
        "\n",
        "reg = RandomForestRegressor(max_depth=20,max_samples=0.8,n_estimators=80,n_jobs=-1)\n",
        "\n",
        "reg.fit(X_rf_train, y_rf_train)\n",
        "\n",
        "\n",
        "\n",
        "#OUTPUT FOR DEFAULT \n",
        "#RandomForestRegressor(bootstrap=True, ccp_alpha=0.0, criterion='mse',\n",
        "#                      max_depth=None, max_features='auto', max_leaf_nodes=None,\n",
        "#                      max_samples=None, min_impurity_decrease=0.0,\n",
        "#                      min_impurity_split=None, min_samples_leaf=1,\n",
        "#                      min_samples_split=2, min_weight_fraction_leaf=0.0,\n",
        "#                      n_estimators=100, n_jobs=None, oob_score=False,\n",
        "#                      random_state=None, verbose=0, warm_start=False)"
      ],
      "execution_count": 90,
      "outputs": [
        {
          "output_type": "execute_result",
          "data": {
            "text/plain": [
              "RandomForestRegressor(bootstrap=True, ccp_alpha=0.0, criterion='mse',\n",
              "                      max_depth=20, max_features='auto', max_leaf_nodes=None,\n",
              "                      max_samples=0.8, min_impurity_decrease=0.0,\n",
              "                      min_impurity_split=None, min_samples_leaf=1,\n",
              "                      min_samples_split=2, min_weight_fraction_leaf=0.0,\n",
              "                      n_estimators=80, n_jobs=-1, oob_score=False,\n",
              "                      random_state=None, verbose=0, warm_start=False)"
            ]
          },
          "metadata": {},
          "execution_count": 90
        }
      ]
    },
    {
      "cell_type": "markdown",
      "metadata": {
        "id": "fIxTVYMVaJyV"
      },
      "source": [
        "##Going with the hyperparameter tuned model with maximum tree depth of 20.80 percent of the original dataset was given to any individual tree by using the max_samples and number of estimators was 80."
      ]
    },
    {
      "cell_type": "code",
      "metadata": {
        "id": "-GvUL2OvhN_i"
      },
      "source": [
        "#predicting on the test split\n",
        "y_rf_pred = reg.predict(X_rf_test)"
      ],
      "execution_count": 91,
      "outputs": []
    },
    {
      "cell_type": "code",
      "metadata": {
        "colab": {
          "base_uri": "https://localhost:8080/"
        },
        "id": "MsgChooy6Hdq",
        "outputId": "8d22715c-e8dd-4502-c290-6d198ecb9f46"
      },
      "source": [
        "#root mean squared error \n",
        "rmse = np.sqrt(metrics.mean_squared_error((y_rf_test),(y_rf_pred)))\n",
        "print(f'Root mean squared error for our Random Forest model is:\\n\\n{rmse}')\n",
        "\n",
        "\n",
        "\n",
        "#OUTPUT FOR DEFAULT\n",
        "#0.3121870956984125"
      ],
      "execution_count": 92,
      "outputs": [
        {
          "output_type": "stream",
          "name": "stdout",
          "text": [
            "Root mean squared error for our Random Forest model is:\n",
            "\n",
            "0.3192525203154147\n"
          ]
        }
      ]
    },
    {
      "cell_type": "code",
      "metadata": {
        "colab": {
          "base_uri": "https://localhost:8080/"
        },
        "id": "qzLC4Hq26HAL",
        "outputId": "07c650f7-f982-467c-c319-43dbcd972911"
      },
      "source": [
        "#R2 score\n",
        "print(f'R2 score for our Random Forest model is:\\n\\n{r2_score(y_rf_test,y_rf_pred)}')\n",
        "\n",
        "\n",
        "\n",
        "#OUTPUT FOR DEFAULT\n",
        "#0.8160485558146933"
      ],
      "execution_count": 93,
      "outputs": [
        {
          "output_type": "stream",
          "name": "stdout",
          "text": [
            "R2 score for our Random Forest model is:\n",
            "\n",
            "0.8076279487969199\n"
          ]
        }
      ]
    },
    {
      "cell_type": "markdown",
      "metadata": {
        "id": "pps17IbgaWUV"
      },
      "source": [
        "##**That's quite an improvement from linear regression model. With the use of random forest algorithm we are able to predict close to 81% of the dependent variables. Next, we will try to run the XGBoost model and see whether we can see any improvement in the metrics or not.**"
      ]
    },
    {
      "cell_type": "code",
      "metadata": {
        "colab": {
          "base_uri": "https://localhost:8080/",
          "height": 621
        },
        "id": "HJLnAH73JVn0",
        "outputId": "0f3ee7d7-111c-434c-d2d6-1e6011927ec9"
      },
      "source": [
        "plt.barh(features_rf, reg.feature_importances_)\n",
        "plt.title(\"Random Forest Feature Importance\")\n",
        "plt.xlabel(\"Feature Importance\")\n",
        "plt.ylabel(\"Features\")\n",
        "plt.show()"
      ],
      "execution_count": 99,
      "outputs": [
        {
          "output_type": "display_data",
          "data": {
            "image/png": "[encoded data removed]",
            "text/plain": [
              "<Figure size 1080x720 with 1 Axes>"
            ]
          },
          "metadata": {
            "needs_background": "light"
          }
        }
      ]
    },
    {
      "cell_type": "code",
      "metadata": {
        "colab": {
          "base_uri": "https://localhost:8080/"
        },
        "id": "QdW3bWq36k8j",
        "outputId": "3f078bed-5c25-46de-bc10-1e1f9a3db310"
      },
      "source": [
        "# get importance\n",
        "importance = reg.feature_importances_\n",
        "\n",
        "# summarize feature importance\n",
        "for i,v in enumerate(importance):\n",
        "\tprint('Feature: %0d, Score: %.5f' % (i,v))\n",
        "\n",
        "\n",
        "\n",
        "#OUTPUT FOR DEFAULT\n",
        "#Feature: 0, Score: 0.00556\n",
        "#Feature: 1, Score: 0.04369\n",
        "#Feature: 2, Score: 0.03769\n",
        "#Feature: 3, Score: 0.04432\n",
        "#Feature: 4, Score: 0.05945\n",
        "#Feature: 5, Score: 0.67941\n",
        "#Feature: 6, Score: 0.00618\n",
        "#Feature: 7, Score: 0.02417\n",
        "#Feature: 8, Score: 0.00382\n",
        "#Feature: 9, Score: 0.01763\n",
        "#Feature: 10, Score: 0.07438\n",
        "#Feature: 11, Score: 0.00172\n",
        "#Feature: 12, Score: 0.00171\n",
        "#Feature: 13, Score: 0.00013\n",
        "#Feature: 14, Score: 0.00014"
      ],
      "execution_count": 95,
      "outputs": [
        {
          "output_type": "stream",
          "name": "stdout",
          "text": [
            "Feature: 0, Score: 0.00315\n",
            "Feature: 1, Score: 0.03286\n",
            "Feature: 2, Score: 0.02756\n",
            "Feature: 3, Score: 0.03383\n",
            "Feature: 4, Score: 0.05193\n",
            "Feature: 5, Score: 0.73841\n",
            "Feature: 6, Score: 0.00438\n",
            "Feature: 7, Score: 0.02291\n",
            "Feature: 8, Score: 0.00194\n",
            "Feature: 9, Score: 0.01114\n",
            "Feature: 10, Score: 0.07005\n",
            "Feature: 11, Score: 0.00083\n",
            "Feature: 12, Score: 0.00082\n",
            "Feature: 13, Score: 0.00009\n",
            "Feature: 14, Score: 0.00010\n"
          ]
        }
      ]
    },
    {
      "cell_type": "markdown",
      "metadata": {
        "id": "ybdUTBrlbGnq"
      },
      "source": [
        "##**Distance with almost 70% contribution has been the feature most important at predicting the trip duration followed by pickup minute and rest of the features trailing behind with little importance. Flags and vendors have almost negligible contribution in predicting the trip duration.**"
      ]
    },
    {
      "cell_type": "markdown",
      "metadata": {
        "id": "L7ZG_Qc1AUsm"
      },
      "source": [
        "#***XGBOOST***"
      ]
    },
    {
      "cell_type": "code",
      "metadata": {
        "id": "VDQ90ZOW0Ji-"
      },
      "source": [
        "import xgboost as xgb\n",
        "from sklearn.metrics import mean_squared_error\n",
        "from sklearn import metrics\n",
        "from xgboost import plot_importance"
      ],
      "execution_count": 103,
      "outputs": []
    },
    {
      "cell_type": "code",
      "metadata": {
        "id": "HDIX5pPt8KmT"
      },
      "source": [
        "xgb_df = df.copy()"
      ],
      "execution_count": null,
      "outputs": []
    },
    {
      "cell_type": "code",
      "metadata": {
        "colab": {
          "base_uri": "https://localhost:8080/"
        },
        "id": "9riyjdtGAbzZ",
        "outputId": "b5129504-db05-4a73-bd27-336367d36e56"
      },
      "source": [
        "xgb_df.columns"
      ],
      "execution_count": null,
      "outputs": [
        {
          "data": {
            "text/plain": [
              "Index(['id', 'vendor_id', 'pickup_datetime', 'dropoff_datetime',\n",
              "       'passenger_count', 'pickup_longitude', 'pickup_latitude',\n",
              "       'dropoff_longitude', 'dropoff_latitude', 'store_and_fwd_flag',\n",
              "       'trip_duration', 'distance', 'speed', 'month', 'pickup_day',\n",
              "       'pickup_hour', 'dropff_day', 'dropff_hour'],\n",
              "      dtype='object')"
            ]
          },
          "execution_count": 100,
          "metadata": {},
          "output_type": "execute_result"
        }
      ]
    },
    {
      "cell_type": "code",
      "metadata": {
        "id": "HT-rII-kAbZq"
      },
      "source": [
        "#week number of the year\n",
        "xgb_df['pickup_week'] = xgb_df.pickup_datetime.dt.week\n",
        "\n",
        "#week day number - starts with monday = 0\n",
        "xgb_df['pickup_day'] = xgb_df.pickup_datetime.dt.weekday\n",
        "\n",
        "#minute of the hour\n",
        "xgb_df['minute'] = xgb_df.pickup_datetime.dt.minute\n",
        "\n",
        "#minute of the day\n",
        "xgb_df['pickup_minute'] = xgb_df['pickup_hour'] * 60 + xgb_df['minute']\n",
        "\n",
        "xgb_df.drop(columns=['minute'],inplace=True)"
      ],
      "execution_count": null,
      "outputs": []
    },
    {
      "cell_type": "code",
      "metadata": {
        "id": "ciRJ1H4EDkbW"
      },
      "source": [
        "#get rid of the columns that we don't need\n",
        "xgb_df.drop(columns=['id','pickup_datetime', 'dropoff_datetime','speed','dropff_day','dropff_hour'],inplace=True)"
      ],
      "execution_count": null,
      "outputs": []
    },
    {
      "cell_type": "code",
      "metadata": {
        "id": "_UvIGPSVDkbX"
      },
      "source": [
        "#dummify the required variables \n",
        "xgb_df = pd.get_dummies(xgb_df,columns =['vendor_id','store_and_fwd_flag'],\n",
        "                        prefix=[\"vendor\",\"flag\"])"
      ],
      "execution_count": null,
      "outputs": []
    },
    {
      "cell_type": "code",
      "metadata": {
        "colab": {
          "base_uri": "https://localhost:8080/"
        },
        "id": "kHfpMvQiDkbX",
        "outputId": "6249199f-e73c-4b00-b08d-c8dc8efd4d98"
      },
      "source": [
        "xgb_df.columns"
      ],
      "execution_count": null,
      "outputs": [
        {
          "data": {
            "text/plain": [
              "Index(['passenger_count', 'pickup_longitude', 'pickup_latitude',\n",
              "       'dropoff_longitude', 'dropoff_latitude', 'trip_duration', 'distance',\n",
              "       'month', 'pickup_day', 'pickup_hour', 'pickup_week', 'pickup_minute',\n",
              "       'vendor_1', 'vendor_2', 'flag_N', 'flag_Y'],\n",
              "      dtype='object')"
            ]
          },
          "execution_count": 104,
          "metadata": {},
          "output_type": "execute_result"
        }
      ]
    },
    {
      "cell_type": "code",
      "metadata": {
        "id": "0Qlh2sLHDkbX"
      },
      "source": [
        "#list of features to be used for training and testing \n",
        "\n",
        "features_xgb = ['passenger_count', 'pickup_longitude', 'pickup_latitude',\n",
        "       'dropoff_longitude', 'dropoff_latitude', 'distance',\n",
        "       'month', 'pickup_day', 'pickup_hour', 'pickup_week', 'pickup_minute',\n",
        "       'vendor_1', 'vendor_2', 'flag_N', 'flag_Y']"
      ],
      "execution_count": null,
      "outputs": []
    },
    {
      "cell_type": "code",
      "metadata": {
        "id": "9o0S4z4VDkbX"
      },
      "source": [
        "xgb_df['trip_duration'] = np.log(xgb_df['trip_duration'].values)\n"
      ],
      "execution_count": null,
      "outputs": []
    },
    {
      "cell_type": "code",
      "metadata": {
        "id": "r1vmPLISDkbY"
      },
      "source": [
        "#features\n",
        "X_xgb = np.array(xgb_df[features_xgb])"
      ],
      "execution_count": null,
      "outputs": []
    },
    {
      "cell_type": "code",
      "metadata": {
        "id": "ecodTz3DDkbY"
      },
      "source": [
        "#target\n",
        "y_xgb = np.array(xgb_df['trip_duration'])"
      ],
      "execution_count": null,
      "outputs": []
    },
    {
      "cell_type": "code",
      "metadata": {
        "colab": {
          "base_uri": "https://localhost:8080/"
        },
        "id": "kzOqqmJyAbR5",
        "outputId": "bb3de73d-80ee-4991-d011-0120b49dde56"
      },
      "source": [
        "#train test split of the model in 80:20 ratio\n",
        "\n",
        "X_xgb_train, X_xgb_test, y_xgb_train, y_xgb_test = train_test_split( X_xgb,y_xgb , test_size = 0.20, random_state = 123) \n",
        "print(X_xgb_train.shape)\n",
        "print(X_xgb_test.shape)"
      ],
      "execution_count": null,
      "outputs": [
        {
          "name": "stdout",
          "output_type": "stream",
          "text": [
            "(1151795, 15)\n",
            "(287949, 15)\n"
          ]
        }
      ]
    },
    {
      "cell_type": "code",
      "metadata": {
        "colab": {
          "background_save": true
        },
        "id": "lyxtk9atAbN2",
        "outputId": "e53c57ca-deb4-4489-e628-d0e2872faa29"
      },
      "source": [
        "model = xgb.XGBRegressor(objective='reg:squarederror',max_depth=25,subsample=0.8,eta=0.09)\n",
        "model.fit(X_xgb_train, y_xgb_train)"
      ],
      "execution_count": null,
      "outputs": [
        {
          "data": {
            "text/plain": [
              "XGBRegressor(base_score=0.5, booster='gbtree', colsample_bylevel=1,\n",
              "             colsample_bynode=1, colsample_bytree=1, eta=0.09, gamma=0,\n",
              "             importance_type='gain', learning_rate=0.1, max_delta_step=0,\n",
              "             max_depth=25, min_child_weight=1, missing=None, n_estimators=100,\n",
              "             n_jobs=1, nthread=None, objective='reg:squarederror',\n",
              "             random_state=0, reg_alpha=0, reg_lambda=1, scale_pos_weight=1,\n",
              "             seed=None, silent=None, subsample=0.8, verbosity=1)"
            ]
          },
          "execution_count": null,
          "metadata": {},
          "output_type": "execute_result"
        }
      ]
    },
    {
      "cell_type": "markdown",
      "metadata": {
        "id": "nFJYbbfyOADO"
      },
      "source": [
        "##Running our Extreme gradient Boosting model with hyperparameters - maximum tree depth at 25, sub sampling i.e. the fraction of observations to be randomly samples for each tree keeping at 80% and eta value i.e. learning rate was kept at 0.09."
      ]
    },
    {
      "cell_type": "code",
      "metadata": {
        "colab": {
          "background_save": true
        },
        "id": "0qgupE-aAbKC"
      },
      "source": [
        "#predicting on the test split\n",
        "y_xgb_pred = model.predict(X_xgb_test)"
      ],
      "execution_count": null,
      "outputs": []
    },
    {
      "cell_type": "code",
      "metadata": {
        "colab": {
          "base_uri": "https://localhost:8080/"
        },
        "id": "4MPBTqx7AbGE",
        "outputId": "5b2663d0-3121-4134-8b62-9d0aa93219c8"
      },
      "source": [
        "#root mean squared error \n",
        "rmse = np.sqrt(metrics.mean_squared_error((y_xgb_test),(y_xgb_pred)))\n",
        "print(f'Root mean squared error for our XGBoost model is:\\n\\n{rmse}')\n",
        "\n"
      ],
      "execution_count": 105,
      "outputs": [
        {
          "output_type": "stream",
          "name": "stdout",
          "text": [
            "Root mean squared error for our XGBoost model is:\n",
            "\n",
            "0.29798619957027717\n"
          ]
        }
      ]
    },
    {
      "cell_type": "code",
      "metadata": {
        "colab": {
          "base_uri": "https://localhost:8080/"
        },
        "id": "7jr9wzmvIav9",
        "outputId": "ffde1c75-1511-4b01-f939-dc0b7721e3f0"
      },
      "source": [
        "#R2 score\n",
        "print(f'R2 score for our XGBoost model is:\\n\\n{r2_score(y_xgb_test,y_xgb_pred)}')\n",
        "\n"
      ],
      "execution_count": 106,
      "outputs": [
        {
          "output_type": "stream",
          "name": "stdout",
          "text": [
            "R2 score for our XGBoost model is:\n",
            "\n",
            "0.8324032434631687\n"
          ]
        }
      ]
    },
    {
      "cell_type": "markdown",
      "metadata": {
        "id": "uYOe-hEuPVkg"
      },
      "source": [
        "##**By using XGBoost model we can see that almost 83% of the observed data has been able to fit model which is an improvement compared to linear regression and random forest.**"
      ]
    },
    {
      "cell_type": "code",
      "metadata": {
        "colab": {
          "base_uri": "https://localhost:8080/",
          "height": 621
        },
        "id": "U9JzjL48Aufp",
        "outputId": "8d0420de-80bc-43bd-c2c0-44854d1b571b"
      },
      "source": [
        "plt.barh(features_xgb, model.feature_importances_)\n",
        "plt.title(\"XGBoost Feature Importance\")\n",
        "plt.xlabel(\"Feature Importance\")\n",
        "plt.ylabel(\"Features\")\n",
        "plt.show()"
      ],
      "execution_count": 107,
      "outputs": [
        {
          "output_type": "display_data",
          "data": {
            "image/png": "[encoded data removed]",
            "text/plain": [
              "<Figure size 1080x720 with 1 Axes>"
            ]
          },
          "metadata": {
            "needs_background": "light"
          }
        }
      ]
    },
    {
      "cell_type": "markdown",
      "metadata": {
        "id": "C6W4wIwSO7dv"
      },
      "source": [
        "##**Distance with almost 67% contribution has been the feature most important at predicting the trip duration followed by pickup minute, pickup day, dropoff latitude and then by rest of the features trailing behind with smaller values. Flags and vendors have almost negligible contribution in predicting the trip duration.**"
      ]
    }
  ]
}